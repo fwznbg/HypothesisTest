{
 "cells": [
  {
   "cell_type": "markdown",
   "metadata": {
    "id": "QjE6eK-Wql3e"
   },
   "source": [
    "# Tugas Besar IF2220 Probabilitas dan Statistika\n",
    "# Penarikan Kesimpulan dan Pengujian Hipotesis"
   ]
  },
  {
   "cell_type": "markdown",
   "metadata": {},
   "source": [
    "- 13519197 - Muhammad Jafar Gundari\n",
    "-  13519206 - Muhammad Fawwaz Naabigh"
   ]
  },
  {
   "cell_type": "code",
   "execution_count": 1,
   "metadata": {
    "id": "hVlwwAQrmlFV"
   },
   "outputs": [],
   "source": [
    "# import libraries\n",
    "import pandas as pd\n",
    "import matplotlib.pyplot as plt\n",
    "from scipy import stats\n",
    "import seaborn as sns\n",
    "import numpy as np\n",
    "import math"
   ]
  },
  {
   "cell_type": "code",
   "execution_count": 2,
   "metadata": {
    "id": "_AxQs4VfpB9_",
    "outputId": "8aa402b9-3c9e-4346-e7f2-0aabf816769e"
   },
   "outputs": [
    {
     "data": {
      "text/html": [
       "<div>\n",
       "<style scoped>\n",
       "    .dataframe tbody tr th:only-of-type {\n",
       "        vertical-align: middle;\n",
       "    }\n",
       "\n",
       "    .dataframe tbody tr th {\n",
       "        vertical-align: top;\n",
       "    }\n",
       "\n",
       "    .dataframe thead th {\n",
       "        text-align: right;\n",
       "    }\n",
       "</style>\n",
       "<table border=\"1\" class=\"dataframe\">\n",
       "  <thead>\n",
       "    <tr style=\"text-align: right;\">\n",
       "      <th></th>\n",
       "      <th>id</th>\n",
       "      <th>Daerah</th>\n",
       "      <th>SumbuUtama</th>\n",
       "      <th>SumbuKecil</th>\n",
       "      <th>Keunikan</th>\n",
       "      <th>AreaBulatan</th>\n",
       "      <th>Diameter</th>\n",
       "      <th>KadarAir</th>\n",
       "      <th>Keliling</th>\n",
       "      <th>Bulatan</th>\n",
       "      <th>Ransum</th>\n",
       "      <th>Kelas</th>\n",
       "    </tr>\n",
       "  </thead>\n",
       "  <tbody>\n",
       "    <tr>\n",
       "      <th>0</th>\n",
       "      <td>1</td>\n",
       "      <td>5781</td>\n",
       "      <td>128.288875</td>\n",
       "      <td>58.470846</td>\n",
       "      <td>0.890095</td>\n",
       "      <td>5954</td>\n",
       "      <td>85.793926</td>\n",
       "      <td>0.674090</td>\n",
       "      <td>316.756</td>\n",
       "      <td>0.724041</td>\n",
       "      <td>2.194066</td>\n",
       "      <td>1</td>\n",
       "    </tr>\n",
       "    <tr>\n",
       "      <th>1</th>\n",
       "      <td>2</td>\n",
       "      <td>4176</td>\n",
       "      <td>109.348294</td>\n",
       "      <td>49.837688</td>\n",
       "      <td>0.890098</td>\n",
       "      <td>4277</td>\n",
       "      <td>72.918093</td>\n",
       "      <td>0.596231</td>\n",
       "      <td>260.346</td>\n",
       "      <td>0.774227</td>\n",
       "      <td>2.194088</td>\n",
       "      <td>1</td>\n",
       "    </tr>\n",
       "    <tr>\n",
       "      <th>2</th>\n",
       "      <td>3</td>\n",
       "      <td>4555</td>\n",
       "      <td>114.427991</td>\n",
       "      <td>52.151207</td>\n",
       "      <td>0.890105</td>\n",
       "      <td>4706</td>\n",
       "      <td>76.155145</td>\n",
       "      <td>0.776641</td>\n",
       "      <td>279.606</td>\n",
       "      <td>0.732159</td>\n",
       "      <td>2.194158</td>\n",
       "      <td>1</td>\n",
       "    </tr>\n",
       "    <tr>\n",
       "      <th>3</th>\n",
       "      <td>4</td>\n",
       "      <td>4141</td>\n",
       "      <td>108.701191</td>\n",
       "      <td>49.457349</td>\n",
       "      <td>0.890499</td>\n",
       "      <td>4236</td>\n",
       "      <td>72.611879</td>\n",
       "      <td>0.633180</td>\n",
       "      <td>260.478</td>\n",
       "      <td>0.766960</td>\n",
       "      <td>2.197877</td>\n",
       "      <td>1</td>\n",
       "    </tr>\n",
       "    <tr>\n",
       "      <th>4</th>\n",
       "      <td>5</td>\n",
       "      <td>5273</td>\n",
       "      <td>122.747869</td>\n",
       "      <td>55.757848</td>\n",
       "      <td>0.890876</td>\n",
       "      <td>5431</td>\n",
       "      <td>81.937733</td>\n",
       "      <td>0.669842</td>\n",
       "      <td>302.730</td>\n",
       "      <td>0.723031</td>\n",
       "      <td>2.201446</td>\n",
       "      <td>1</td>\n",
       "    </tr>\n",
       "  </tbody>\n",
       "</table>\n",
       "</div>"
      ],
      "text/plain": [
       "   id  Daerah  SumbuUtama  SumbuKecil  Keunikan  AreaBulatan   Diameter  \\\n",
       "0   1    5781  128.288875   58.470846  0.890095         5954  85.793926   \n",
       "1   2    4176  109.348294   49.837688  0.890098         4277  72.918093   \n",
       "2   3    4555  114.427991   52.151207  0.890105         4706  76.155145   \n",
       "3   4    4141  108.701191   49.457349  0.890499         4236  72.611879   \n",
       "4   5    5273  122.747869   55.757848  0.890876         5431  81.937733   \n",
       "\n",
       "   KadarAir  Keliling   Bulatan    Ransum  Kelas  \n",
       "0  0.674090   316.756  0.724041  2.194066      1  \n",
       "1  0.596231   260.346  0.774227  2.194088      1  \n",
       "2  0.776641   279.606  0.732159  2.194158      1  \n",
       "3  0.633180   260.478  0.766960  2.197877      1  \n",
       "4  0.669842   302.730  0.723031  2.201446      1  "
      ]
     },
     "execution_count": 2,
     "metadata": {},
     "output_type": "execute_result"
    }
   ],
   "source": [
    "#read file\n",
    "column_list = [\"id\", \"Daerah\", \"SumbuUtama\", \"SumbuKecil\", \"Keunikan\", \"AreaBulatan\", \"Diameter\", \"KadarAir\", \"Keliling\", \"Bulatan\", \"Ransum\", \"Kelas\"]\n",
    "df = pd.read_csv(\"Gandum.csv\", names=column_list)\n",
    "df.head()"
   ]
  },
  {
   "cell_type": "markdown",
   "metadata": {
    "id": "6HE1aSWSmKtK"
   },
   "source": [
    "### 1. Menulis deskripsi statistika (Descriptive Statistics) dari semua kolom pada data yang bersifat numerik, terdiri dari mean, median, modus, standar deviasi, variansi, range, nilai minimum, maksimum, kuartil, IQR, skewness dan kurtosis. Boleh juga ditambahkan deskripsi lain."
   ]
  },
  {
   "cell_type": "markdown",
   "metadata": {
    "id": "uxTkJI2-nw3u"
   },
   "source": [
    "Fungsi untuk mendapatkan descriptive statistics"
   ]
  },
  {
   "cell_type": "code",
   "execution_count": 3,
   "metadata": {
    "id": "CkEITdyDnuGI"
   },
   "outputs": [],
   "source": [
    "def addToData(Tabel, namaKolom):\n",
    "    data = []\n",
    "    data.append(df[namaKolom].mean())\n",
    "    data.append(df[namaKolom].median())\n",
    "    # data.append(df[namaKolom].mode())\n",
    "    data.append(df[namaKolom].std())\n",
    "    data.append(df[namaKolom].var(skipna = True)) # variance\n",
    "    data.append(df[namaKolom].min())\n",
    "    data.append(df[namaKolom].max())\n",
    "    data.append(df[namaKolom].max() - df[namaKolom].min())\n",
    "    # Skewness\n",
    "    data.append(df[namaKolom].skew())\n",
    "\n",
    "    #kurtosis\n",
    "    data.append(df[namaKolom].kurt())\n",
    "    Tabel.append(data)\n",
    "#     pd.DataFrame(Tabel, columns=[\"Mean\", \"Median\",\"Std\", \"Variance\", \"Min\", \"Max\", \"Range\", \"Skewness\", \"Kurtosis\"])\n",
    "\n",
    "def printModus(namaKolom):\n",
    "    # Print modus\n",
    "    modus = df[namaKolom].mode()\n",
    "    print(\"Modus :\")\n",
    "    for item in modus:\n",
    "        print(\"-\",item)\n",
    "        \n",
    "def printQuartile(namaKolom):\n",
    "    # Quartile\n",
    "    # First quartile (Q1)\n",
    "    Q1 = np.percentile(df[namaKolom], 25)\n",
    "\n",
    "    # Third quartile (Q3)\n",
    "    Q3 = np.percentile(df[namaKolom], 75)\n",
    "\n",
    "    # Interquaritle range (IQR)\n",
    "    IQR = Q3 - Q1\n",
    "\n",
    "    # Quartile\n",
    "    print(\"Quartile 25% :\",Q1)\n",
    "    print(\"Quartile 75% :\",Q3)\n",
    "    print(\"Interquartile :\",IQR)"
   ]
  },
  {
   "cell_type": "markdown",
   "metadata": {
    "id": "PQydKI1Jrohh"
   },
   "source": [
    "**PERHATIAN untuk kolom yang setiap datanya unik, tidak dituliskan modus, karena dinilai tidak informatif**\n",
    "\n"
   ]
  },
  {
   "cell_type": "markdown",
   "metadata": {
    "id": "gs-SizpKidv6"
   },
   "source": [
    "### Daerah"
   ]
  },
  {
   "cell_type": "code",
   "execution_count": 4,
   "metadata": {
    "id": "EEQB1Xo8iZG5",
    "outputId": "4d300e20-0a93-4bf3-8c3b-bfb43ec092ae"
   },
   "outputs": [
    {
     "name": "stdout",
     "output_type": "stream",
     "text": [
      "Modus :\n",
      "- 3992\n",
      "- 4881\n",
      "- 5642\n",
      "- 6083\n",
      "Quartile 25% : 4042.75\n",
      "Quartile 75% : 5495.5\n",
      "Interquartile : 1452.75\n"
     ]
    },
    {
     "data": {
      "text/html": [
       "<div>\n",
       "<style scoped>\n",
       "    .dataframe tbody tr th:only-of-type {\n",
       "        vertical-align: middle;\n",
       "    }\n",
       "\n",
       "    .dataframe tbody tr th {\n",
       "        vertical-align: top;\n",
       "    }\n",
       "\n",
       "    .dataframe thead th {\n",
       "        text-align: right;\n",
       "    }\n",
       "</style>\n",
       "<table border=\"1\" class=\"dataframe\">\n",
       "  <thead>\n",
       "    <tr style=\"text-align: right;\">\n",
       "      <th></th>\n",
       "      <th>Mean</th>\n",
       "      <th>Median</th>\n",
       "      <th>Std</th>\n",
       "      <th>Variance</th>\n",
       "      <th>Min</th>\n",
       "      <th>Max</th>\n",
       "      <th>Range</th>\n",
       "      <th>Skewness</th>\n",
       "      <th>Kurtosis</th>\n",
       "    </tr>\n",
       "  </thead>\n",
       "  <tbody>\n",
       "    <tr>\n",
       "      <th>0</th>\n",
       "      <td>4801.246</td>\n",
       "      <td>4735.0</td>\n",
       "      <td>986.395491</td>\n",
       "      <td>972976.065615</td>\n",
       "      <td>2522</td>\n",
       "      <td>7453</td>\n",
       "      <td>4931</td>\n",
       "      <td>0.238144</td>\n",
       "      <td>-0.434631</td>\n",
       "    </tr>\n",
       "  </tbody>\n",
       "</table>\n",
       "</div>"
      ],
      "text/plain": [
       "       Mean  Median         Std       Variance   Min   Max  Range  Skewness  \\\n",
       "0  4801.246  4735.0  986.395491  972976.065615  2522  7453   4931  0.238144   \n",
       "\n",
       "   Kurtosis  \n",
       "0 -0.434631  "
      ]
     },
     "execution_count": 4,
     "metadata": {},
     "output_type": "execute_result"
    }
   ],
   "source": [
    "# Dataframe daerah\n",
    "Tabel = []\n",
    "addToData(Tabel, \"Daerah\")\n",
    "printModus(\"Daerah\")\n",
    "printQuartile(\"Daerah\")\n",
    "dfDaerah = pd.DataFrame(Tabel, columns=[\"Mean\", \"Median\",\"Std\", \"Variance\", \"Min\", \"Max\", \"Range\", \"Skewness\", \"Kurtosis\"])\n",
    "dfDaerah"
   ]
  },
  {
   "cell_type": "markdown",
   "metadata": {
    "id": "fgIe0I1BithL"
   },
   "source": [
    "### SumbuUtama\n",
    "\n",
    "> Modus tidak dimasukan karena setiap data unik\n",
    "\n"
   ]
  },
  {
   "cell_type": "code",
   "execution_count": 5,
   "metadata": {
    "id": "KwYBQJyslZ5r",
    "outputId": "80fa3798-e28d-4dfe-9e3a-dde2cd5989c5"
   },
   "outputs": [
    {
     "name": "stdout",
     "output_type": "stream",
     "text": [
      "Quartile 25% : 104.11609817499999\n",
      "Quartile 75% : 129.046792025\n",
      "Interquartile : 24.93069385000001\n"
     ]
    },
    {
     "data": {
      "text/html": [
       "<div>\n",
       "<style scoped>\n",
       "    .dataframe tbody tr th:only-of-type {\n",
       "        vertical-align: middle;\n",
       "    }\n",
       "\n",
       "    .dataframe tbody tr th {\n",
       "        vertical-align: top;\n",
       "    }\n",
       "\n",
       "    .dataframe thead th {\n",
       "        text-align: right;\n",
       "    }\n",
       "</style>\n",
       "<table border=\"1\" class=\"dataframe\">\n",
       "  <thead>\n",
       "    <tr style=\"text-align: right;\">\n",
       "      <th></th>\n",
       "      <th>Mean</th>\n",
       "      <th>Median</th>\n",
       "      <th>Std</th>\n",
       "      <th>Variance</th>\n",
       "      <th>Min</th>\n",
       "      <th>Max</th>\n",
       "      <th>Range</th>\n",
       "      <th>Skewness</th>\n",
       "      <th>Kurtosis</th>\n",
       "    </tr>\n",
       "  </thead>\n",
       "  <tbody>\n",
       "    <tr>\n",
       "      <th>0</th>\n",
       "      <td>116.045171</td>\n",
       "      <td>115.40514</td>\n",
       "      <td>18.282626</td>\n",
       "      <td>334.254412</td>\n",
       "      <td>74.133114</td>\n",
       "      <td>227.928583</td>\n",
       "      <td>153.795469</td>\n",
       "      <td>0.761529</td>\n",
       "      <td>4.330534</td>\n",
       "    </tr>\n",
       "  </tbody>\n",
       "</table>\n",
       "</div>"
      ],
      "text/plain": [
       "         Mean     Median        Std    Variance        Min         Max  \\\n",
       "0  116.045171  115.40514  18.282626  334.254412  74.133114  227.928583   \n",
       "\n",
       "        Range  Skewness  Kurtosis  \n",
       "0  153.795469  0.761529  4.330534  "
      ]
     },
     "execution_count": 5,
     "metadata": {},
     "output_type": "execute_result"
    }
   ],
   "source": [
    "Tabel = []\n",
    "addToData(Tabel, \"SumbuUtama\")\n",
    "printQuartile(\"SumbuUtama\")\n",
    "dfSumbuUtama = pd.DataFrame(Tabel, columns=[\"Mean\", \"Median\",\"Std\", \"Variance\", \"Min\", \"Max\", \"Range\", \"Skewness\", \"Kurtosis\"])\n",
    "dfSumbuUtama"
   ]
  },
  {
   "cell_type": "markdown",
   "metadata": {
    "id": "9wKui_0hmBRm"
   },
   "source": [
    "### SumbuKecil\n",
    "\n",
    "> Modus tidak dimasukan karena setiap data unik\n",
    "\n"
   ]
  },
  {
   "cell_type": "code",
   "execution_count": 6,
   "metadata": {
    "id": "DiymV1WnmFWr",
    "outputId": "0af8a2fd-2a2d-49de-e07a-d823a9fef07e"
   },
   "outputs": [
    {
     "name": "stdout",
     "output_type": "stream",
     "text": [
      "Quartile 25% : 51.1935763325\n",
      "Quartile 75% : 56.3251579825\n",
      "Interquartile : 5.131581650000001\n"
     ]
    },
    {
     "data": {
      "text/html": [
       "<div>\n",
       "<style scoped>\n",
       "    .dataframe tbody tr th:only-of-type {\n",
       "        vertical-align: middle;\n",
       "    }\n",
       "\n",
       "    .dataframe tbody tr th {\n",
       "        vertical-align: top;\n",
       "    }\n",
       "\n",
       "    .dataframe thead th {\n",
       "        text-align: right;\n",
       "    }\n",
       "</style>\n",
       "<table border=\"1\" class=\"dataframe\">\n",
       "  <thead>\n",
       "    <tr style=\"text-align: right;\">\n",
       "      <th></th>\n",
       "      <th>Mean</th>\n",
       "      <th>Median</th>\n",
       "      <th>Std</th>\n",
       "      <th>Variance</th>\n",
       "      <th>Min</th>\n",
       "      <th>Max</th>\n",
       "      <th>Range</th>\n",
       "      <th>Skewness</th>\n",
       "      <th>Kurtosis</th>\n",
       "    </tr>\n",
       "  </thead>\n",
       "  <tbody>\n",
       "    <tr>\n",
       "      <th>0</th>\n",
       "      <td>53.715246</td>\n",
       "      <td>53.731199</td>\n",
       "      <td>4.071075</td>\n",
       "      <td>16.57365</td>\n",
       "      <td>39.906517</td>\n",
       "      <td>68.9777</td>\n",
       "      <td>29.071182</td>\n",
       "      <td>-0.010828</td>\n",
       "      <td>0.475568</td>\n",
       "    </tr>\n",
       "  </tbody>\n",
       "</table>\n",
       "</div>"
      ],
      "text/plain": [
       "        Mean     Median       Std  Variance        Min      Max      Range  \\\n",
       "0  53.715246  53.731199  4.071075  16.57365  39.906517  68.9777  29.071182   \n",
       "\n",
       "   Skewness  Kurtosis  \n",
       "0 -0.010828  0.475568  "
      ]
     },
     "execution_count": 6,
     "metadata": {},
     "output_type": "execute_result"
    }
   ],
   "source": [
    "Tabel = []\n",
    "addToData(Tabel, \"SumbuKecil\")\n",
    "printQuartile(\"SumbuKecil\")\n",
    "dfSumbuKecil = pd.DataFrame(Tabel, columns=[\"Mean\", \"Median\",\"Std\", \"Variance\", \"Min\", \"Max\", \"Range\", \"Skewness\", \"Kurtosis\"])\n",
    "dfSumbuKecil"
   ]
  },
  {
   "cell_type": "markdown",
   "metadata": {
    "id": "5nSaOXLamGeH"
   },
   "source": [
    "### Keunikan\n",
    "> Modus tidak dimasukan karena setiap data unik"
   ]
  },
  {
   "cell_type": "code",
   "execution_count": 7,
   "metadata": {
    "id": "7XeKhSejmggx",
    "outputId": "bc41630c-85ce-44e5-c8c4-c811ddfd2d7f"
   },
   "outputs": [
    {
     "name": "stdout",
     "output_type": "stream",
     "text": [
      "Quartile 25% : 0.8636757527500001\n",
      "Quartile 75% : 0.907577917\n",
      "Interquartile : 0.04390216424999993\n"
     ]
    },
    {
     "data": {
      "text/html": [
       "<div>\n",
       "<style scoped>\n",
       "    .dataframe tbody tr th:only-of-type {\n",
       "        vertical-align: middle;\n",
       "    }\n",
       "\n",
       "    .dataframe tbody tr th {\n",
       "        vertical-align: top;\n",
       "    }\n",
       "\n",
       "    .dataframe thead th {\n",
       "        text-align: right;\n",
       "    }\n",
       "</style>\n",
       "<table border=\"1\" class=\"dataframe\">\n",
       "  <thead>\n",
       "    <tr style=\"text-align: right;\">\n",
       "      <th></th>\n",
       "      <th>Mean</th>\n",
       "      <th>Median</th>\n",
       "      <th>Std</th>\n",
       "      <th>Variance</th>\n",
       "      <th>Min</th>\n",
       "      <th>Max</th>\n",
       "      <th>Range</th>\n",
       "      <th>Skewness</th>\n",
       "      <th>Kurtosis</th>\n",
       "    </tr>\n",
       "  </thead>\n",
       "  <tbody>\n",
       "    <tr>\n",
       "      <th>0</th>\n",
       "      <td>0.878764</td>\n",
       "      <td>0.890045</td>\n",
       "      <td>0.036586</td>\n",
       "      <td>0.001339</td>\n",
       "      <td>0.719916</td>\n",
       "      <td>0.914001</td>\n",
       "      <td>0.194085</td>\n",
       "      <td>-1.623472</td>\n",
       "      <td>2.917256</td>\n",
       "    </tr>\n",
       "  </tbody>\n",
       "</table>\n",
       "</div>"
      ],
      "text/plain": [
       "       Mean    Median       Std  Variance       Min       Max     Range  \\\n",
       "0  0.878764  0.890045  0.036586  0.001339  0.719916  0.914001  0.194085   \n",
       "\n",
       "   Skewness  Kurtosis  \n",
       "0 -1.623472  2.917256  "
      ]
     },
     "execution_count": 7,
     "metadata": {},
     "output_type": "execute_result"
    }
   ],
   "source": [
    "Tabel = []\n",
    "addToData(Tabel, \"Keunikan\")\n",
    "printQuartile(\"Keunikan\")\n",
    "dfKeunikan = pd.DataFrame(Tabel, columns=[\"Mean\", \"Median\",\"Std\", \"Variance\", \"Min\", \"Max\", \"Range\", \"Skewness\", \"Kurtosis\"])\n",
    "dfKeunikan"
   ]
  },
  {
   "cell_type": "markdown",
   "metadata": {
    "id": "adm1IR_8miNi"
   },
   "source": [
    "### AreaBulatan"
   ]
  },
  {
   "cell_type": "code",
   "execution_count": 8,
   "metadata": {
    "id": "LOvr2DAFm5_R",
    "outputId": "9654f890-3926-4d88-fc63-80168444f787"
   },
   "outputs": [
    {
     "name": "stdout",
     "output_type": "stream",
     "text": [
      "Modus :\n",
      "- 3802\n",
      "- 4913\n",
      "Quartile 25% : 4170.25\n",
      "Quartile 75% : 5654.25\n",
      "Interquartile : 1484.0\n"
     ]
    },
    {
     "data": {
      "text/html": [
       "<div>\n",
       "<style scoped>\n",
       "    .dataframe tbody tr th:only-of-type {\n",
       "        vertical-align: middle;\n",
       "    }\n",
       "\n",
       "    .dataframe tbody tr th {\n",
       "        vertical-align: top;\n",
       "    }\n",
       "\n",
       "    .dataframe thead th {\n",
       "        text-align: right;\n",
       "    }\n",
       "</style>\n",
       "<table border=\"1\" class=\"dataframe\">\n",
       "  <thead>\n",
       "    <tr style=\"text-align: right;\">\n",
       "      <th></th>\n",
       "      <th>Mean</th>\n",
       "      <th>Median</th>\n",
       "      <th>Std</th>\n",
       "      <th>Variance</th>\n",
       "      <th>Min</th>\n",
       "      <th>Max</th>\n",
       "      <th>Range</th>\n",
       "      <th>Skewness</th>\n",
       "      <th>Kurtosis</th>\n",
       "    </tr>\n",
       "  </thead>\n",
       "  <tbody>\n",
       "    <tr>\n",
       "      <th>0</th>\n",
       "      <td>4937.048</td>\n",
       "      <td>4857.0</td>\n",
       "      <td>1011.696255</td>\n",
       "      <td>1.023529e+06</td>\n",
       "      <td>2579</td>\n",
       "      <td>7720</td>\n",
       "      <td>5141</td>\n",
       "      <td>0.25756</td>\n",
       "      <td>-0.409685</td>\n",
       "    </tr>\n",
       "  </tbody>\n",
       "</table>\n",
       "</div>"
      ],
      "text/plain": [
       "       Mean  Median          Std      Variance   Min   Max  Range  Skewness  \\\n",
       "0  4937.048  4857.0  1011.696255  1.023529e+06  2579  7720   5141   0.25756   \n",
       "\n",
       "   Kurtosis  \n",
       "0 -0.409685  "
      ]
     },
     "execution_count": 8,
     "metadata": {},
     "output_type": "execute_result"
    }
   ],
   "source": [
    "Tabel = []\n",
    "addToData(Tabel, \"AreaBulatan\")\n",
    "printModus(\"AreaBulatan\")\n",
    "printQuartile(\"AreaBulatan\")\n",
    "dfAreaBulatan = pd.DataFrame(Tabel, columns=[\"Mean\", \"Median\",\"Std\", \"Variance\", \"Min\", \"Max\", \"Range\", \"Skewness\", \"Kurtosis\"])\n",
    "dfAreaBulatan"
   ]
  },
  {
   "cell_type": "markdown",
   "metadata": {
    "id": "J1cinzxzqz73"
   },
   "source": [
    "### Diameter"
   ]
  },
  {
   "cell_type": "code",
   "execution_count": 9,
   "metadata": {
    "id": "MiCq9MKQq1nK",
    "outputId": "af3cccc4-9ed5-4a72-c841-b7aa89b47d95"
   },
   "outputs": [
    {
     "name": "stdout",
     "output_type": "stream",
     "text": [
      "Modus :\n",
      "- 71.29356396\n",
      "- 78.83325579\n",
      "- 84.75622403\n",
      "- 88.00634154\n",
      "Quartile 25% : 71.74530754749999\n",
      "Quartile 75% : 83.6485975675\n",
      "Interquartile : 11.903290020000014\n"
     ]
    },
    {
     "data": {
      "text/html": [
       "<div>\n",
       "<style scoped>\n",
       "    .dataframe tbody tr th:only-of-type {\n",
       "        vertical-align: middle;\n",
       "    }\n",
       "\n",
       "    .dataframe tbody tr th {\n",
       "        vertical-align: top;\n",
       "    }\n",
       "\n",
       "    .dataframe thead th {\n",
       "        text-align: right;\n",
       "    }\n",
       "</style>\n",
       "<table border=\"1\" class=\"dataframe\">\n",
       "  <thead>\n",
       "    <tr style=\"text-align: right;\">\n",
       "      <th></th>\n",
       "      <th>Mean</th>\n",
       "      <th>Median</th>\n",
       "      <th>Std</th>\n",
       "      <th>Variance</th>\n",
       "      <th>Min</th>\n",
       "      <th>Max</th>\n",
       "      <th>Range</th>\n",
       "      <th>Skewness</th>\n",
       "      <th>Kurtosis</th>\n",
       "    </tr>\n",
       "  </thead>\n",
       "  <tbody>\n",
       "    <tr>\n",
       "      <th>0</th>\n",
       "      <td>77.771158</td>\n",
       "      <td>77.645277</td>\n",
       "      <td>8.056867</td>\n",
       "      <td>64.913111</td>\n",
       "      <td>56.666658</td>\n",
       "      <td>97.41383</td>\n",
       "      <td>40.747172</td>\n",
       "      <td>0.002725</td>\n",
       "      <td>-0.466455</td>\n",
       "    </tr>\n",
       "  </tbody>\n",
       "</table>\n",
       "</div>"
      ],
      "text/plain": [
       "        Mean     Median       Std   Variance        Min       Max      Range  \\\n",
       "0  77.771158  77.645277  8.056867  64.913111  56.666658  97.41383  40.747172   \n",
       "\n",
       "   Skewness  Kurtosis  \n",
       "0  0.002725 -0.466455  "
      ]
     },
     "execution_count": 9,
     "metadata": {},
     "output_type": "execute_result"
    }
   ],
   "source": [
    "Tabel = []\n",
    "addToData(Tabel, \"Diameter\")\n",
    "printModus(\"Diameter\")\n",
    "printQuartile(\"Diameter\")\n",
    "dfDiameter = pd.DataFrame(Tabel, columns=[\"Mean\", \"Median\",\"Std\", \"Variance\", \"Min\", \"Max\", \"Range\", \"Skewness\", \"Kurtosis\"])\n",
    "dfDiameter"
   ]
  },
  {
   "cell_type": "markdown",
   "metadata": {
    "id": "zIEi0SJgrDXH"
   },
   "source": [
    "### KadarAir"
   ]
  },
  {
   "cell_type": "code",
   "execution_count": 10,
   "metadata": {
    "id": "3gHeIn_QrExu",
    "outputId": "0580929f-2854-4131-bfb8-1da1b3b10353"
   },
   "outputs": [
    {
     "name": "stdout",
     "output_type": "stream",
     "text": [
      "Modus :\n",
      "- 0.735849057\n",
      "- 0.824404762\n",
      "Quartile 25% : 0.57263245725\n",
      "Quartile 75% : 0.7266333445000001\n",
      "Interquartile : 0.15400088725000005\n"
     ]
    },
    {
     "data": {
      "text/html": [
       "<div>\n",
       "<style scoped>\n",
       "    .dataframe tbody tr th:only-of-type {\n",
       "        vertical-align: middle;\n",
       "    }\n",
       "\n",
       "    .dataframe tbody tr th {\n",
       "        vertical-align: top;\n",
       "    }\n",
       "\n",
       "    .dataframe thead th {\n",
       "        text-align: right;\n",
       "    }\n",
       "</style>\n",
       "<table border=\"1\" class=\"dataframe\">\n",
       "  <thead>\n",
       "    <tr style=\"text-align: right;\">\n",
       "      <th></th>\n",
       "      <th>Mean</th>\n",
       "      <th>Median</th>\n",
       "      <th>Std</th>\n",
       "      <th>Variance</th>\n",
       "      <th>Min</th>\n",
       "      <th>Max</th>\n",
       "      <th>Range</th>\n",
       "      <th>Skewness</th>\n",
       "      <th>Kurtosis</th>\n",
       "    </tr>\n",
       "  </thead>\n",
       "  <tbody>\n",
       "    <tr>\n",
       "      <th>0</th>\n",
       "      <td>0.648372</td>\n",
       "      <td>0.626117</td>\n",
       "      <td>0.094367</td>\n",
       "      <td>0.008905</td>\n",
       "      <td>0.409927</td>\n",
       "      <td>0.878899</td>\n",
       "      <td>0.468972</td>\n",
       "      <td>0.493661</td>\n",
       "      <td>-0.740326</td>\n",
       "    </tr>\n",
       "  </tbody>\n",
       "</table>\n",
       "</div>"
      ],
      "text/plain": [
       "       Mean    Median       Std  Variance       Min       Max     Range  \\\n",
       "0  0.648372  0.626117  0.094367  0.008905  0.409927  0.878899  0.468972   \n",
       "\n",
       "   Skewness  Kurtosis  \n",
       "0  0.493661 -0.740326  "
      ]
     },
     "execution_count": 10,
     "metadata": {},
     "output_type": "execute_result"
    }
   ],
   "source": [
    "Tabel = []\n",
    "addToData(Tabel, \"KadarAir\")\n",
    "printModus(\"KadarAir\")\n",
    "printQuartile(\"KadarAir\")\n",
    "dfKadarAir = pd.DataFrame(Tabel, columns=[\"Mean\", \"Median\",\"Std\", \"Variance\", \"Min\", \"Max\", \"Range\", \"Skewness\", \"Kurtosis\"])\n",
    "dfKadarAir"
   ]
  },
  {
   "cell_type": "markdown",
   "metadata": {
    "id": "ly02qCiDrRGo"
   },
   "source": [
    "### Keliling"
   ]
  },
  {
   "cell_type": "code",
   "execution_count": 11,
   "metadata": {
    "id": "S9n6qYAJrSod",
    "outputId": "1e9f80c7-92b2-499b-e025-cd5a3618794b"
   },
   "outputs": [
    {
     "name": "stdout",
     "output_type": "stream",
     "text": [
      "Quartile 25% : 255.88299999999998\n",
      "Quartile 75% : 306.0625\n",
      "Interquartile : 50.17950000000002\n"
     ]
    },
    {
     "data": {
      "text/html": [
       "<div>\n",
       "<style scoped>\n",
       "    .dataframe tbody tr th:only-of-type {\n",
       "        vertical-align: middle;\n",
       "    }\n",
       "\n",
       "    .dataframe tbody tr th {\n",
       "        vertical-align: top;\n",
       "    }\n",
       "\n",
       "    .dataframe thead th {\n",
       "        text-align: right;\n",
       "    }\n",
       "</style>\n",
       "<table border=\"1\" class=\"dataframe\">\n",
       "  <thead>\n",
       "    <tr style=\"text-align: right;\">\n",
       "      <th></th>\n",
       "      <th>Mean</th>\n",
       "      <th>Median</th>\n",
       "      <th>Std</th>\n",
       "      <th>Variance</th>\n",
       "      <th>Min</th>\n",
       "      <th>Max</th>\n",
       "      <th>Range</th>\n",
       "      <th>Skewness</th>\n",
       "      <th>Kurtosis</th>\n",
       "    </tr>\n",
       "  </thead>\n",
       "  <tbody>\n",
       "    <tr>\n",
       "      <th>0</th>\n",
       "      <td>281.479722</td>\n",
       "      <td>280.0455</td>\n",
       "      <td>37.335402</td>\n",
       "      <td>1393.932221</td>\n",
       "      <td>197.015</td>\n",
       "      <td>488.837</td>\n",
       "      <td>291.822</td>\n",
       "      <td>0.733627</td>\n",
       "      <td>2.272685</td>\n",
       "    </tr>\n",
       "  </tbody>\n",
       "</table>\n",
       "</div>"
      ],
      "text/plain": [
       "         Mean    Median        Std     Variance      Min      Max    Range  \\\n",
       "0  281.479722  280.0455  37.335402  1393.932221  197.015  488.837  291.822   \n",
       "\n",
       "   Skewness  Kurtosis  \n",
       "0  0.733627  2.272685  "
      ]
     },
     "execution_count": 11,
     "metadata": {},
     "output_type": "execute_result"
    }
   ],
   "source": [
    "Tabel = []\n",
    "addToData(Tabel, \"Keliling\")\n",
    "printQuartile(\"Keliling\")\n",
    "dfKeliling = pd.DataFrame(Tabel, columns=[\"Mean\", \"Median\",\"Std\", \"Variance\", \"Min\", \"Max\", \"Range\", \"Skewness\", \"Kurtosis\"])\n",
    "dfKeliling"
   ]
  },
  {
   "cell_type": "markdown",
   "metadata": {
    "id": "NQL9wHLmr1IW"
   },
   "source": [
    "### Bulatan"
   ]
  },
  {
   "cell_type": "code",
   "execution_count": 12,
   "metadata": {
    "id": "BSZvZrItr5RI",
    "outputId": "73b897b9-1384-4b4f-a576-b142a1bd13ac"
   },
   "outputs": [
    {
     "name": "stdout",
     "output_type": "stream",
     "text": [
      "Quartile 25% : 0.731990728\n",
      "Quartile 75% : 0.79636096975\n",
      "Interquartile : 0.06437024175000006\n"
     ]
    },
    {
     "data": {
      "text/html": [
       "<div>\n",
       "<style scoped>\n",
       "    .dataframe tbody tr th:only-of-type {\n",
       "        vertical-align: middle;\n",
       "    }\n",
       "\n",
       "    .dataframe tbody tr th {\n",
       "        vertical-align: top;\n",
       "    }\n",
       "\n",
       "    .dataframe thead th {\n",
       "        text-align: right;\n",
       "    }\n",
       "</style>\n",
       "<table border=\"1\" class=\"dataframe\">\n",
       "  <thead>\n",
       "    <tr style=\"text-align: right;\">\n",
       "      <th></th>\n",
       "      <th>Mean</th>\n",
       "      <th>Median</th>\n",
       "      <th>Std</th>\n",
       "      <th>Variance</th>\n",
       "      <th>Min</th>\n",
       "      <th>Max</th>\n",
       "      <th>Range</th>\n",
       "      <th>Skewness</th>\n",
       "      <th>Kurtosis</th>\n",
       "    </tr>\n",
       "  </thead>\n",
       "  <tbody>\n",
       "    <tr>\n",
       "      <th>0</th>\n",
       "      <td>0.761737</td>\n",
       "      <td>0.761288</td>\n",
       "      <td>0.061702</td>\n",
       "      <td>0.003807</td>\n",
       "      <td>0.17459</td>\n",
       "      <td>0.904748</td>\n",
       "      <td>0.730158</td>\n",
       "      <td>-3.599237</td>\n",
       "      <td>29.975096</td>\n",
       "    </tr>\n",
       "  </tbody>\n",
       "</table>\n",
       "</div>"
      ],
      "text/plain": [
       "       Mean    Median       Std  Variance      Min       Max     Range  \\\n",
       "0  0.761737  0.761288  0.061702  0.003807  0.17459  0.904748  0.730158   \n",
       "\n",
       "   Skewness   Kurtosis  \n",
       "0 -3.599237  29.975096  "
      ]
     },
     "execution_count": 12,
     "metadata": {},
     "output_type": "execute_result"
    }
   ],
   "source": [
    "Tabel = []\n",
    "addToData(Tabel, \"Bulatan\")\n",
    "printQuartile(\"Bulatan\")\n",
    "dfBulatan= pd.DataFrame(Tabel, columns=[\"Mean\", \"Median\",\"Std\", \"Variance\", \"Min\", \"Max\", \"Range\", \"Skewness\", \"Kurtosis\"])\n",
    "dfBulatan"
   ]
  },
  {
   "cell_type": "markdown",
   "metadata": {
    "id": "ORHULV2isANZ"
   },
   "source": [
    "### Ransum"
   ]
  },
  {
   "cell_type": "code",
   "execution_count": 13,
   "metadata": {
    "id": "dtT1tkcOsCQP",
    "outputId": "d4cf2f3f-41a6-40a3-911c-48bb2ef3c696"
   },
   "outputs": [
    {
     "name": "stdout",
     "output_type": "stream",
     "text": [
      "Quartile 25% : 1.98393879075\n",
      "Quartile 75% : 2.38161221825\n",
      "Interquartile : 0.3976734275\n"
     ]
    },
    {
     "data": {
      "text/html": [
       "<div>\n",
       "<style scoped>\n",
       "    .dataframe tbody tr th:only-of-type {\n",
       "        vertical-align: middle;\n",
       "    }\n",
       "\n",
       "    .dataframe tbody tr th {\n",
       "        vertical-align: top;\n",
       "    }\n",
       "\n",
       "    .dataframe thead th {\n",
       "        text-align: right;\n",
       "    }\n",
       "</style>\n",
       "<table border=\"1\" class=\"dataframe\">\n",
       "  <thead>\n",
       "    <tr style=\"text-align: right;\">\n",
       "      <th></th>\n",
       "      <th>Mean</th>\n",
       "      <th>Median</th>\n",
       "      <th>Std</th>\n",
       "      <th>Variance</th>\n",
       "      <th>Min</th>\n",
       "      <th>Max</th>\n",
       "      <th>Range</th>\n",
       "      <th>Skewness</th>\n",
       "      <th>Kurtosis</th>\n",
       "    </tr>\n",
       "  </thead>\n",
       "  <tbody>\n",
       "    <tr>\n",
       "      <th>0</th>\n",
       "      <td>2.150915</td>\n",
       "      <td>2.193599</td>\n",
       "      <td>0.249767</td>\n",
       "      <td>0.062383</td>\n",
       "      <td>1.440796</td>\n",
       "      <td>2.464809</td>\n",
       "      <td>1.024013</td>\n",
       "      <td>-0.658188</td>\n",
       "      <td>-0.428656</td>\n",
       "    </tr>\n",
       "  </tbody>\n",
       "</table>\n",
       "</div>"
      ],
      "text/plain": [
       "       Mean    Median       Std  Variance       Min       Max     Range  \\\n",
       "0  2.150915  2.193599  0.249767  0.062383  1.440796  2.464809  1.024013   \n",
       "\n",
       "   Skewness  Kurtosis  \n",
       "0 -0.658188 -0.428656  "
      ]
     },
     "execution_count": 13,
     "metadata": {},
     "output_type": "execute_result"
    }
   ],
   "source": [
    "Tabel = []\n",
    "addToData(Tabel, \"Ransum\")\n",
    "printQuartile(\"Ransum\")\n",
    "dfRansum = pd.DataFrame(Tabel, columns=[\"Mean\", \"Median\",\"Std\", \"Variance\", \"Min\", \"Max\", \"Range\", \"Skewness\", \"Kurtosis\"])\n",
    "dfRansum"
   ]
  },
  {
   "cell_type": "markdown",
   "metadata": {
    "id": "VVnTSpWOma8B"
   },
   "source": [
    "### 2. Membuat Visualisasi plot distribusi, dalam bentuk histogram dan boxplot untuk setiap kolom numerik. Berikan uraian penjelasan kondisi setiap kolom berdasarkan kedua plot tersebut."
   ]
  },
  {
   "cell_type": "markdown",
   "metadata": {
    "id": "y36rUNWsLwgo"
   },
   "source": [
    "Dari seluruh kolom, semuanya merupakan kolom numerik kecuali kolom `Kelas` yang merupakan kolom katogorik (`Kelas 1` atau `Kelas 2`)"
   ]
  },
  {
   "cell_type": "code",
   "execution_count": 14,
   "metadata": {
    "id": "ospHfE7mZDTl"
   },
   "outputs": [],
   "source": [
    "# Histogram\n",
    "def plotHistogram(df, kolom):\n",
    "    sns.distplot(df[kolom], kde = True, bins = 50).set(title=\"Histogram \" + \"Kolom \" + kolom)\n",
    "    plt.show()\n",
    "    \n",
    "# Boxplot\n",
    "def plotBoxplot(df, kolom):\n",
    "    plt.title(\"Boxplot \" + \"Kolom \" + kolom)\n",
    "    plt.boxplot(df[kolom])\n",
    "    plt.show()"
   ]
  },
  {
   "cell_type": "markdown",
   "metadata": {
    "id": "mYYlmhZbK0zC"
   },
   "source": [
    "#### Daerah"
   ]
  },
  {
   "cell_type": "markdown",
   "metadata": {
    "id": "oyN2VrZrVI-N"
   },
   "source": [
    "Dari hasil plot didapat bahwa kolom `Daerah` memiliki bimodal distribution dengan range ~5000 dan tidak memiliki pencilan."
   ]
  },
  {
   "cell_type": "code",
   "execution_count": 15,
   "metadata": {
    "id": "eCSTXHS0mxFD",
    "outputId": "0dd726db-f0fe-4390-b909-8fe2071c12e4"
   },
   "outputs": [
    {
     "data": {
      "image/png": "[encoded data removed]",
      "text/plain": [
       "<Figure size 432x288 with 1 Axes>"
      ]
     },
     "metadata": {
      "needs_background": "light"
     },
     "output_type": "display_data"
    },
    {
     "data": {
      "image/png": "[encoded data removed]",
      "text/plain": [
       "<Figure size 432x288 with 1 Axes>"
      ]
     },
     "metadata": {
      "needs_background": "light"
     },
     "output_type": "display_data"
    }
   ],
   "source": [
    "plotHistogram(df, 'Daerah')\n",
    "plotBoxplot(df, 'Daerah')"
   ]
  },
  {
   "cell_type": "markdown",
   "metadata": {
    "id": "EQwz7Z42LSrr"
   },
   "source": [
    "#### Sumbu Utama"
   ]
  },
  {
   "cell_type": "markdown",
   "metadata": {
    "id": "aPnLkcWkZrwO"
   },
   "source": [
    "Dari hasil plot, kolom `Sumbu Utama` kemungkinan besar memiliki nilai kurtosis yang relatif tinggi dengan sebaran data yang tidak begitu besar dengan range ~150. Terlihat juga terdapat satu pencilan."
   ]
  },
  {
   "cell_type": "code",
   "execution_count": 16,
   "metadata": {
    "id": "j5QeyaOvMFJd",
    "outputId": "594caea8-8ba5-496c-c91a-dfad6428d91e"
   },
   "outputs": [
    {
     "data": {
      "image/png": "[encoded data removed]",
      "text/plain": [
       "<Figure size 432x288 with 1 Axes>"
      ]
     },
     "metadata": {
      "needs_background": "light"
     },
     "output_type": "display_data"
    },
    {
     "data": {
      "image/png": "[encoded data removed]",
      "text/plain": [
       "<Figure size 432x288 with 1 Axes>"
      ]
     },
     "metadata": {
      "needs_background": "light"
     },
     "output_type": "display_data"
    }
   ],
   "source": [
    "plotHistogram(df, 'SumbuUtama')\n",
    "plotBoxplot(df, 'SumbuUtama')"
   ]
  },
  {
   "cell_type": "markdown",
   "metadata": {
    "id": "BtUcJ06hLXdj"
   },
   "source": [
    "#### Sumbu Kecil"
   ]
  },
  {
   "cell_type": "markdown",
   "metadata": {
    "id": "Fd4V-5ODa3Hi"
   },
   "source": [
    "Sebagaimana kolom `Sumbu Utama`, kolom `Sumbu Kecil` memiliki kurtosis yang realtif tinggi dengan range ~30. Pencilan yang dimiliki kolom ini relatif lebih banyak dari kolom `Sumbu Utama`."
   ]
  },
  {
   "cell_type": "code",
   "execution_count": 17,
   "metadata": {
    "id": "6SOpdobsMOvw",
    "outputId": "9439b2d7-ec83-4e8c-de17-2eedff6f5b51"
   },
   "outputs": [
    {
     "data": {
      "image/png": "[encoded data removed]",
      "text/plain": [
       "<Figure size 432x288 with 1 Axes>"
      ]
     },
     "metadata": {
      "needs_background": "light"
     },
     "output_type": "display_data"
    },
    {
     "data": {
      "image/png": "[encoded data removed]",
      "text/plain": [
       "<Figure size 432x288 with 1 Axes>"
      ]
     },
     "metadata": {
      "needs_background": "light"
     },
     "output_type": "display_data"
    }
   ],
   "source": [
    "plotHistogram(df, 'SumbuKecil')\n",
    "plotBoxplot(df, 'SumbuKecil')"
   ]
  },
  {
   "cell_type": "markdown",
   "metadata": {
    "id": "E7L_TW7rLaq4"
   },
   "source": [
    "#### Keunikan\n"
   ]
  },
  {
   "cell_type": "markdown",
   "metadata": {
    "id": "T2CI8A3qbX1L"
   },
   "source": [
    "Terlihat jelas bahwa kolom `Keunikan` memiliki bentuk skewed-left dengan pencilan yang cukup banyak di tail-nya."
   ]
  },
  {
   "cell_type": "code",
   "execution_count": 18,
   "metadata": {
    "id": "kGT7E2DkMUoc",
    "outputId": "42cef110-de3d-4cd1-a787-45bbc77d1049"
   },
   "outputs": [
    {
     "data": {
      "image/png": "[encoded data removed]",
      "text/plain": [
       "<Figure size 432x288 with 1 Axes>"
      ]
     },
     "metadata": {
      "needs_background": "light"
     },
     "output_type": "display_data"
    },
    {
     "data": {
      "image/png": "[encoded data removed]",
      "text/plain": [
       "<Figure size 432x288 with 1 Axes>"
      ]
     },
     "metadata": {
      "needs_background": "light"
     },
     "output_type": "display_data"
    }
   ],
   "source": [
    "plotHistogram(df, 'Keunikan')\n",
    "plotBoxplot(df, 'Keunikan')"
   ]
  },
  {
   "cell_type": "markdown",
   "metadata": {
    "id": "taUQ4cuHLdVG"
   },
   "source": [
    "#### Area Bulatan"
   ]
  },
  {
   "cell_type": "markdown",
   "metadata": {
    "id": "Nqvg8AuJbpcB"
   },
   "source": [
    "Kolom `Area Bulatan` terlihat memiliki bentuk bimodal dengan range ~5000 dan tidak memiliki pencilan sama sekali."
   ]
  },
  {
   "cell_type": "code",
   "execution_count": 19,
   "metadata": {
    "id": "jgjEWlCsMdjS",
    "outputId": "cdc92312-0606-491f-a708-83413606879a"
   },
   "outputs": [
    {
     "data": {
      "image/png": "[encoded data removed]",
      "text/plain": [
       "<Figure size 432x288 with 1 Axes>"
      ]
     },
     "metadata": {
      "needs_background": "light"
     },
     "output_type": "display_data"
    },
    {
     "data": {
      "image/png": "[encoded data removed]",
      "text/plain": [
       "<Figure size 432x288 with 1 Axes>"
      ]
     },
     "metadata": {
      "needs_background": "light"
     },
     "output_type": "display_data"
    }
   ],
   "source": [
    "plotHistogram(df, 'AreaBulatan')\n",
    "plotBoxplot(df, 'AreaBulatan')"
   ]
  },
  {
   "cell_type": "markdown",
   "metadata": {
    "id": "NTyoWSXhLgL3"
   },
   "source": [
    "#### Diamaeter\n"
   ]
  },
  {
   "cell_type": "markdown",
   "metadata": {
    "id": "JHz_Qjdhcl1J"
   },
   "source": [
    "Kolom `Diameter` terlihat memiliki bentuk bimodal dengan nilai ~75 sebagai modus. Terlihat juga bahwa kolom ini tidak memiliki pencilan."
   ]
  },
  {
   "cell_type": "code",
   "execution_count": 20,
   "metadata": {
    "id": "Tvq7lhaeMid7",
    "outputId": "59c29e6d-3fd7-436a-c929-ae9eb1c66156"
   },
   "outputs": [
    {
     "data": {
      "image/png": "[encoded data removed]",
      "text/plain": [
       "<Figure size 432x288 with 1 Axes>"
      ]
     },
     "metadata": {
      "needs_background": "light"
     },
     "output_type": "display_data"
    },
    {
     "data": {
      "image/png": "[encoded data removed]",
      "text/plain": [
       "<Figure size 432x288 with 1 Axes>"
      ]
     },
     "metadata": {
      "needs_background": "light"
     },
     "output_type": "display_data"
    }
   ],
   "source": [
    "plotHistogram(df, 'Diameter')\n",
    "plotBoxplot(df, 'Diameter')"
   ]
  },
  {
   "cell_type": "markdown",
   "metadata": {
    "id": "OXIS1Zd4Ljpe"
   },
   "source": [
    "#### Kadar Air"
   ]
  },
  {
   "cell_type": "markdown",
   "metadata": {
    "id": "1l5Ts3TQdk5m"
   },
   "source": [
    "Dari hasil plot, kolom `Kadar Air` tidak memiliki range ~0.5 dan modus di nilai ~0.6. Kolom ini tidak memiliki pencilan."
   ]
  },
  {
   "cell_type": "code",
   "execution_count": 21,
   "metadata": {
    "id": "Z4k6Y_35MpJb",
    "outputId": "ca7ec720-a217-4237-ff2f-236a7af9103a"
   },
   "outputs": [
    {
     "data": {
      "image/png": "[encoded data removed]",
      "text/plain": [
       "<Figure size 432x288 with 1 Axes>"
      ]
     },
     "metadata": {
      "needs_background": "light"
     },
     "output_type": "display_data"
    },
    {
     "data": {
      "image/png": "[encoded data removed]",
      "text/plain": [
       "<Figure size 432x288 with 1 Axes>"
      ]
     },
     "metadata": {
      "needs_background": "light"
     },
     "output_type": "display_data"
    }
   ],
   "source": [
    "plotHistogram(df, 'KadarAir')\n",
    "plotBoxplot(df, 'KadarAir')"
   ]
  },
  {
   "cell_type": "markdown",
   "metadata": {
    "id": "mzw1lJIlLm3c"
   },
   "source": [
    "#### Keliling"
   ]
  },
  {
   "cell_type": "markdown",
   "metadata": {
    "id": "x6wQfSfgfEuU"
   },
   "source": [
    "Terlihat pada plot bahwa kolom ini memiliki range 300 dengan beberapa pencilan pada nilai yang relatif tinggi."
   ]
  },
  {
   "cell_type": "code",
   "execution_count": 22,
   "metadata": {
    "id": "n9Qct0flMtnu",
    "outputId": "9adfba91-1ad5-45c9-e03e-c5c85fddf70c"
   },
   "outputs": [
    {
     "data": {
      "image/png": "[encoded data removed]",
      "text/plain": [
       "<Figure size 432x288 with 1 Axes>"
      ]
     },
     "metadata": {
      "needs_background": "light"
     },
     "output_type": "display_data"
    },
    {
     "data": {
      "image/png": "[encoded data removed]",
      "text/plain": [
       "<Figure size 432x288 with 1 Axes>"
      ]
     },
     "metadata": {
      "needs_background": "light"
     },
     "output_type": "display_data"
    }
   ],
   "source": [
    "plotHistogram(df, 'Keliling')\n",
    "plotBoxplot(df, 'Keliling')"
   ]
  },
  {
   "cell_type": "markdown",
   "metadata": {
    "id": "u1Wj-3qCLpKv"
   },
   "source": [
    "#### Bulatan"
   ]
  },
  {
   "cell_type": "markdown",
   "metadata": {
    "id": "jQt6G73qf1UR"
   },
   "source": [
    "Pada plot, dapat dilihat kemungkinan kolom `Bulatan` memiliki kurtosis yang cukup tinggi dan memiliki bentuk skewed-left. Terdapat pula beberapa pencilan pada bagian tail."
   ]
  },
  {
   "cell_type": "code",
   "execution_count": 23,
   "metadata": {
    "id": "X6sz7I8nNeeW",
    "outputId": "2398c135-7d49-4f38-a2df-50fdae06e12c"
   },
   "outputs": [
    {
     "data": {
      "image/png": "[encoded data removed]",
      "text/plain": [
       "<Figure size 432x288 with 1 Axes>"
      ]
     },
     "metadata": {
      "needs_background": "light"
     },
     "output_type": "display_data"
    },
    {
     "data": {
      "image/png": "[encoded data removed]",
      "text/plain": [
       "<Figure size 432x288 with 1 Axes>"
      ]
     },
     "metadata": {
      "needs_background": "light"
     },
     "output_type": "display_data"
    }
   ],
   "source": [
    "plotHistogram(df, 'Bulatan')\n",
    "plotBoxplot(df, 'Bulatan')"
   ]
  },
  {
   "cell_type": "markdown",
   "metadata": {
    "id": "MVhw_D6PLrJP"
   },
   "source": [
    "#### Ransum"
   ]
  },
  {
   "cell_type": "markdown",
   "metadata": {
    "id": "wRFL-FYcgN1T"
   },
   "source": [
    "Terlihat jelas bahwa kolom `Ransum` berbentuk skewed-left dengan modus bernilai ~2.4. Range dari kolom ini berkisar pada nilai ~1."
   ]
  },
  {
   "cell_type": "code",
   "execution_count": 24,
   "metadata": {
    "id": "BVyJyonlNork",
    "outputId": "86c63dd5-13c8-4429-97b7-03751c14f881"
   },
   "outputs": [
    {
     "data": {
      "image/png": "[encoded data removed]",
      "text/plain": [
       "<Figure size 432x288 with 1 Axes>"
      ]
     },
     "metadata": {
      "needs_background": "light"
     },
     "output_type": "display_data"
    },
    {
     "data": {
      "image/png": "[encoded data removed]",
      "text/plain": [
       "<Figure size 432x288 with 1 Axes>"
      ]
     },
     "metadata": {
      "needs_background": "light"
     },
     "output_type": "display_data"
    }
   ],
   "source": [
    "plotHistogram(df, 'Ransum')\n",
    "plotBoxplot(df, 'Ransum')"
   ]
  },
  {
   "cell_type": "markdown",
   "metadata": {
    "id": "sU8SFYpumxd4"
   },
   "source": [
    "### 3. Menentukan setiap kolom numerik berdistribusi normal atau tidak. Gunakan normality test yang dikaitkan dengan histogram plot."
   ]
  },
  {
   "cell_type": "markdown",
   "metadata": {
    "id": "EXg2_FU6Kuvz"
   },
   "source": [
    "Normality test yang digunakan adalah Kolmogorov-Smirnov Test yang tersedia pada libarry scipy dengan fungsi bernama kstest(). Metode pengujian dengan skewness dan kurtosis tidak dilakukan mengingat pengujian dengan metode tersebut hanya akurat jika data berjumlah lebih dari 2000. Metode Kolmogorov-Smirnov yang dilakukan merupakan uji hipotesis dengan \n",
    "- h0: data terdistribusi normal\n",
    "- h1: data tidak terdistribusi normal\n",
    "- alpha = 0.05\n",
    "\n",
    "Dengan demikian, jika hasil test lebih besar dari alpha, maka h0 gagal ditolak dan data dapat disimpulkan terdistribusi secara normal.\n"
   ]
  },
  {
   "cell_type": "markdown",
   "metadata": {
    "id": "RtN67-EMtOKp"
   },
   "source": [
    "Dari seluruh kolom, semuanya merupakan kolom numerik kecuali kolom `Kelas` yang merupakan kolom katogorik (`Kelas 1` atau `Kelas 2`)"
   ]
  },
  {
   "cell_type": "code",
   "execution_count": 25,
   "metadata": {
    "id": "QYQsJhIPJSP9"
   },
   "outputs": [],
   "source": [
    "def checkNormality(df, kolom):\n",
    "  stat, p = stats.kstest(df[kolom], 'norm')\n",
    "  print(\"Nilai p =\", p)\n",
    "  if(p > 0.05):\n",
    "    print(\"Kolom '\"+kolom+\"' terdistribusi secara normal.\")\n",
    "  else:\n",
    "    print(\"Kolom '\"+kolom+\"' tidak terdistribusi secara normal.\")"
   ]
  },
  {
   "cell_type": "markdown",
   "metadata": {
    "id": "V8dzk1CKt-YH"
   },
   "source": [
    "#### Daerah"
   ]
  },
  {
   "cell_type": "code",
   "execution_count": 26,
   "metadata": {
    "id": "SmPPMhmRuu9R",
    "outputId": "f9ee6074-12e7-439b-8fc0-8cf26098edc8"
   },
   "outputs": [
    {
     "data": {
      "image/png": "[encoded data removed]",
      "text/plain": [
       "<Figure size 432x288 with 1 Axes>"
      ]
     },
     "metadata": {
      "needs_background": "light"
     },
     "output_type": "display_data"
    },
    {
     "name": "stdout",
     "output_type": "stream",
     "text": [
      "Nilai p = 0.0\n",
      "Kolom 'Daerah' tidak terdistribusi secara normal.\n"
     ]
    }
   ],
   "source": [
    "plotHistogram(df, \"Daerah\")\n",
    "checkNormality(df, \"Daerah\")"
   ]
  },
  {
   "cell_type": "markdown",
   "metadata": {
    "id": "COpZaa6SuDcI"
   },
   "source": [
    "#### Sumbu Utama"
   ]
  },
  {
   "cell_type": "code",
   "execution_count": 27,
   "metadata": {
    "id": "BNb5Gxd0uvhM",
    "outputId": "40d35cb5-f926-4ed1-f7b4-45411d886fbb"
   },
   "outputs": [
    {
     "data": {
      "image/png": "[encoded data removed]",
      "text/plain": [
       "<Figure size 432x288 with 1 Axes>"
      ]
     },
     "metadata": {
      "needs_background": "light"
     },
     "output_type": "display_data"
    },
    {
     "name": "stdout",
     "output_type": "stream",
     "text": [
      "Nilai p = 0.0\n",
      "Kolom 'SumbuUtama' tidak terdistribusi secara normal.\n"
     ]
    }
   ],
   "source": [
    "plotHistogram(df, \"SumbuUtama\")\n",
    "checkNormality(df, \"SumbuUtama\")"
   ]
  },
  {
   "cell_type": "markdown",
   "metadata": {
    "id": "dDqKB0OJuc1X"
   },
   "source": [
    "#### Sumbu Kecil"
   ]
  },
  {
   "cell_type": "code",
   "execution_count": 28,
   "metadata": {
    "id": "2AN2goiFuwAM",
    "outputId": "01b8acc7-cf61-477e-ab60-326f1a8e9651"
   },
   "outputs": [
    {
     "data": {
      "image/png": "[encoded data removed]",
      "text/plain": [
       "<Figure size 432x288 with 1 Axes>"
      ]
     },
     "metadata": {
      "needs_background": "light"
     },
     "output_type": "display_data"
    },
    {
     "name": "stdout",
     "output_type": "stream",
     "text": [
      "Nilai p = 0.0\n",
      "Kolom 'SumbuKecil' tidak terdistribusi secara normal.\n"
     ]
    }
   ],
   "source": [
    "plotHistogram(df, \"SumbuKecil\")\n",
    "checkNormality(df, \"SumbuKecil\")"
   ]
  },
  {
   "cell_type": "markdown",
   "metadata": {
    "id": "4bqD9nHJue6I"
   },
   "source": [
    "#### Keunikan"
   ]
  },
  {
   "cell_type": "code",
   "execution_count": 29,
   "metadata": {
    "id": "TcdNQP9auwer",
    "outputId": "f88cb997-ac7d-408e-92be-d50d14a274bc"
   },
   "outputs": [
    {
     "data": {
      "image/png": "[encoded data removed]",
      "text/plain": [
       "<Figure size 432x288 with 1 Axes>"
      ]
     },
     "metadata": {
      "needs_background": "light"
     },
     "output_type": "display_data"
    },
    {
     "name": "stdout",
     "output_type": "stream",
     "text": [
      "Nilai p = 1.1628061475594779e-306\n",
      "Kolom 'Keunikan' tidak terdistribusi secara normal.\n"
     ]
    }
   ],
   "source": [
    "plotHistogram(df, \"Keunikan\")\n",
    "checkNormality(df, \"Keunikan\")"
   ]
  },
  {
   "cell_type": "markdown",
   "metadata": {
    "id": "htrPTCP5ug-A"
   },
   "source": [
    "#### Area Bulatan"
   ]
  },
  {
   "cell_type": "code",
   "execution_count": 30,
   "metadata": {
    "id": "aYosw-fwuxHB",
    "outputId": "7dcab34e-9e28-4024-8d2f-6e718e5b0f65"
   },
   "outputs": [
    {
     "data": {
      "image/png": "[encoded data removed]",
      "text/plain": [
       "<Figure size 432x288 with 1 Axes>"
      ]
     },
     "metadata": {
      "needs_background": "light"
     },
     "output_type": "display_data"
    },
    {
     "name": "stdout",
     "output_type": "stream",
     "text": [
      "Nilai p = 0.0\n",
      "Kolom 'AreaBulatan' tidak terdistribusi secara normal.\n"
     ]
    }
   ],
   "source": [
    "plotHistogram(df, \"AreaBulatan\")\n",
    "checkNormality(df, \"AreaBulatan\")"
   ]
  },
  {
   "cell_type": "markdown",
   "metadata": {
    "id": "vKUy_eJjui2-"
   },
   "source": [
    "#### Diameter"
   ]
  },
  {
   "cell_type": "code",
   "execution_count": 31,
   "metadata": {
    "id": "06j3Wb4suxjl",
    "outputId": "2d93be35-d448-43ce-b97f-7466d2cfcad3"
   },
   "outputs": [
    {
     "data": {
      "image/png": "[encoded data removed]",
      "text/plain": [
       "<Figure size 432x288 with 1 Axes>"
      ]
     },
     "metadata": {
      "needs_background": "light"
     },
     "output_type": "display_data"
    },
    {
     "name": "stdout",
     "output_type": "stream",
     "text": [
      "Nilai p = 0.0\n",
      "Kolom 'Diameter' tidak terdistribusi secara normal.\n"
     ]
    }
   ],
   "source": [
    "plotHistogram(df, \"Diameter\")\n",
    "checkNormality(df, \"Diameter\")"
   ]
  },
  {
   "cell_type": "markdown",
   "metadata": {
    "id": "368M72WCuk0h"
   },
   "source": [
    "#### Kadar Air"
   ]
  },
  {
   "cell_type": "code",
   "execution_count": 32,
   "metadata": {
    "id": "0FWevMFCuyCV",
    "outputId": "0b482018-bd30-41b8-9eab-1857b71aa133"
   },
   "outputs": [
    {
     "data": {
      "image/png": "[encoded data removed]",
      "text/plain": [
       "<Figure size 432x288 with 1 Axes>"
      ]
     },
     "metadata": {
      "needs_background": "light"
     },
     "output_type": "display_data"
    },
    {
     "name": "stdout",
     "output_type": "stream",
     "text": [
      "Nilai p = 1.683394360851386e-236\n",
      "Kolom 'KadarAir' tidak terdistribusi secara normal.\n"
     ]
    }
   ],
   "source": [
    "plotHistogram(df, \"KadarAir\")\n",
    "checkNormality(df, \"KadarAir\")"
   ]
  },
  {
   "cell_type": "markdown",
   "metadata": {
    "id": "pnAKaaU2umsq"
   },
   "source": [
    "#### Keliling"
   ]
  },
  {
   "cell_type": "code",
   "execution_count": 33,
   "metadata": {
    "id": "uQKWKaOGuzsd",
    "outputId": "f81c7c9a-3ddd-44e5-d61e-d8bf81483fca"
   },
   "outputs": [
    {
     "data": {
      "image/png": "[encoded data removed]",
      "text/plain": [
       "<Figure size 432x288 with 1 Axes>"
      ]
     },
     "metadata": {
      "needs_background": "light"
     },
     "output_type": "display_data"
    },
    {
     "name": "stdout",
     "output_type": "stream",
     "text": [
      "Nilai p = 0.0\n",
      "Kolom 'Keliling' tidak terdistribusi secara normal.\n"
     ]
    }
   ],
   "source": [
    "plotHistogram(df, \"Keliling\")\n",
    "checkNormality(df, \"Keliling\")"
   ]
  },
  {
   "cell_type": "markdown",
   "metadata": {
    "id": "IGew5-6PuoVK"
   },
   "source": [
    "#### Bulatan"
   ]
  },
  {
   "cell_type": "code",
   "execution_count": 34,
   "metadata": {
    "id": "yvkNzKkVu0T9",
    "outputId": "1eb06444-f627-46de-aa84-96efe8390bb9"
   },
   "outputs": [
    {
     "data": {
      "image/png": "[encoded data removed]",
      "text/plain": [
       "<Figure size 432x288 with 1 Axes>"
      ]
     },
     "metadata": {
      "needs_background": "light"
     },
     "output_type": "display_data"
    },
    {
     "name": "stdout",
     "output_type": "stream",
     "text": [
      "Nilai p = 1.1179969664624067e-269\n",
      "Kolom 'Bulatan' tidak terdistribusi secara normal.\n"
     ]
    }
   ],
   "source": [
    "plotHistogram(df, \"Bulatan\")\n",
    "checkNormality(df, \"Bulatan\")"
   ]
  },
  {
   "cell_type": "markdown",
   "metadata": {
    "id": "K4ExjSMJuqrK"
   },
   "source": [
    "#### Ransum"
   ]
  },
  {
   "cell_type": "code",
   "execution_count": 35,
   "metadata": {
    "id": "BbNG4OtQnCKU",
    "outputId": "b7939c60-4daf-44cb-fae2-47cf89b0a601"
   },
   "outputs": [
    {
     "data": {
      "image/png": "[encoded data removed]",
      "text/plain": [
       "<Figure size 432x288 with 1 Axes>"
      ]
     },
     "metadata": {
      "needs_background": "light"
     },
     "output_type": "display_data"
    },
    {
     "name": "stdout",
     "output_type": "stream",
     "text": [
      "Nilai p = 0.0\n",
      "Kolom 'Ransum' tidak terdistribusi secara normal.\n"
     ]
    }
   ],
   "source": [
    "plotHistogram(df, \"Ransum\")\n",
    "checkNormality(df, \"Ransum\")"
   ]
  },
  {
   "cell_type": "markdown",
   "metadata": {
    "id": "w7_VarVjnDQ9"
   },
   "source": [
    "### 4. Melakukan test hipotesis 1 sampel, dengan menuliskan 6 langkah testing dan menampilkan juga boxplotnya untuk kolom/bagian yang bersesuaian."
   ]
  },
  {
   "cell_type": "code",
   "execution_count": 36,
   "metadata": {
    "id": "xcW4bitGZ-Cp"
   },
   "outputs": [],
   "source": [
    "# Boxplot\n",
    "def createBoxplot(df, judul):\n",
    "    plt.title(\"Boxplot \" + judul)\n",
    "    plt.boxplot(df)\n",
    "    plt.show()\n",
    "\n",
    "def calculateZbyMean(x,sigma, n, u0):\n",
    "    z = ((x - u0) *  (n**0.5)) / sigma\n",
    "    return z\n",
    "\n",
    "def getZbyBinomial(x, n, p):\n",
    "    q = 1 - p\n",
    "    pembilang = x - n*p\n",
    "    penyebut = (n*p*q)**0.5\n",
    "    return (pembilang / penyebut)"
   ]
  },
  {
   "cell_type": "code",
   "execution_count": 37,
   "metadata": {
    "id": "D36ODrXuIu_h"
   },
   "outputs": [],
   "source": [
    "# n = 218,untuk populasi 500, margin of error 5%"
   ]
  },
  {
   "cell_type": "markdown",
   "metadata": {
    "id": "v05tPeD_nIYM"
   },
   "source": [
    "#### a. Nilai rata-rata Daerah di atas 4700?\n",
    "\n"
   ]
  },
  {
   "cell_type": "code",
   "execution_count": 38,
   "metadata": {
    "id": "0BVaRYiVnL3F"
   },
   "outputs": [
    {
     "name": "stdout",
     "output_type": "stream",
     "text": [
      "Z :  1.9771415250471962\n",
      "p value : 0.02401281755940076\n",
      "Z berada pada daerah kritis\n",
      "Tolak H0, dapat disimpulkan rata-rata daerah lebih besar dari 4700\n",
      "Nilai p < alpha\n",
      "Kesimpulan tolak H0 benar, dapat disimpulkan rata-rata daerah lebih besar dari 4700\n"
     ]
    }
   ],
   "source": [
    "# LANGKAH HIPOTESIS\n",
    "# 1. h0 = 4700\n",
    "# 2. h1 > 4700\n",
    "# 3. alpha = 0.05, maka \n",
    "# 4. Tes mean std populasi diketahui, daerah kritis z > z(0.05) = 1.645\n",
    "# 5. Hitung nilai uji statistik dan p-value :\n",
    "# n = 218\n",
    "# z = (x - u0) *  (n**0.5) / sigma = ...\n",
    "# Hitung p value, P(Z > z) = 1 - P(Z < z)= ...\n",
    "# 6. Kesimpulan hasil pada perhitungan di bawah ini\n",
    "\n",
    "# Perhatian mungkin sample berbeda ketika di run ulang\n",
    "sample = df[\"Daerah\"].sample(n = 218)\n",
    "n = len(sample)\n",
    "x,sigma = sample.mean(), dfDaerah['Std'].loc[0]\n",
    "# Hitung nilai uji statistik \n",
    "# hitung nilai z\n",
    "z = (calculateZbyMean(x, sigma, n, 4700)) \n",
    "# Hitung p-value\n",
    "p = stats.norm.sf(abs(z)) \n",
    "print(\"Z : \", z)\n",
    "print(\"p value :\",p)\n",
    "\n",
    "if (z > 1.645):\n",
    "    print(\"Z berada pada daerah kritis\")\n",
    "    print(\"Tolak H0, dapat disimpulkan rata-rata daerah lebih besar dari 4700\")\n",
    "else:\n",
    "    print(\"Z tidak berada pada daerah kritis\")\n",
    "    print(\"Gagal tolak H0, dapat disimpulkan rata-rata daerah sama dengan 4700\")\n",
    "\n",
    "if (p < 0.05):\n",
    "    print(\"Nilai p < alpha\")\n",
    "    print(\"Kesimpulan tolak H0 benar, dapat disimpulkan rata-rata daerah lebih besar dari 4700\")\n",
    "else:\n",
    "    print(\"Nilai p >= alpha\")\n",
    "    print(\"Kesimpulan Gagal tolak H0 benar, dapat disimpulkan rata-rata daerah sama dengan 4700\")"
   ]
  },
  {
   "cell_type": "code",
   "execution_count": 39,
   "metadata": {
    "id": "cb990tD-Au1K"
   },
   "outputs": [
    {
     "data": {
      "image/png": "[encoded data removed]",
      "text/plain": [
       "<Figure size 432x288 with 1 Axes>"
      ]
     },
     "metadata": {
      "needs_background": "light"
     },
     "output_type": "display_data"
    },
    {
     "data": {
      "image/png": "[encoded data removed]",
      "text/plain": [
       "<Figure size 432x288 with 1 Axes>"
      ]
     },
     "metadata": {
      "needs_background": "light"
     },
     "output_type": "display_data"
    }
   ],
   "source": [
    "# boxplot\n",
    "createBoxplot(sample, \"Random Sampel Daerah n = 218\")\n",
    "createBoxplot(df[\"Daerah\"], \"Populasi Daerah\")"
   ]
  },
  {
   "cell_type": "markdown",
   "metadata": {
    "id": "WmbXpAMQnMTk"
   },
   "source": [
    "#### b. Nilai Rata-rata Sumbu Utama tidak sama dengan 116?"
   ]
  },
  {
   "cell_type": "code",
   "execution_count": 40,
   "metadata": {
    "id": "iaBo_nh2nPS3",
    "outputId": "c03018fd-7bd6-4ed6-fa26-f80208effe8b"
   },
   "outputs": [
    {
     "name": "stdout",
     "output_type": "stream",
     "text": [
      "Z :  0.36115313803277577\n",
      "p value : 0.7179849716421708\n",
      "Z tidak berada pada daerah kritis\n",
      "Gagal tolak H0, dapat disimpulkan rata-rata sumbu utama sama dengan 116\n",
      "Nilai p >= alpha\n",
      "Kesimpulan Gagal tolak H0 benar, dapat disimpulkan rata-rata sumbu utama sama dengan 116\n"
     ]
    }
   ],
   "source": [
    "# b. Nilai Rata-rata Sumbu Utama tidak sama dengan 116?\n",
    "# LANGKAH HIPOTESIS\n",
    "#1. h0 = 116\n",
    "# 2. h1 != 116\n",
    "# 3. alpha = 0.05, maka \n",
    "# 4. Tes mean z test std populasi diketahui, two tailed test daerah kritis z > 1.96 dan z < -1.96\n",
    "# 5. Hitung nilai uji statistik dan hitung p-value, random sampling n = 218\n",
    "# z = ((x - u0) *  (n**0.5)) / sigma\n",
    "# Karena two tailed test maka P = P(|Z| > z) = 2P(Z < z) = ... (dengan aproksimasi)\n",
    "# 6. Berlanjut pada hasil dibawah\n",
    "\n",
    "# Perhatian mungkin sample berbeda ketika di run ulang\n",
    "sample = df[\"SumbuUtama\"].sample(n = 218)\n",
    "n = len(sample)\n",
    "x,sigma = sample.mean(), dfSumbuUtama['Std'].loc[0]\n",
    "\n",
    "# Uji statistik\n",
    "# calculate z \n",
    "z = (calculateZbyMean(x, sigma, n, 116)) \n",
    "# calculate p-value\n",
    "p = stats.norm.sf(abs(z))*2 \n",
    "print(\"Z : \", z)\n",
    "print(\"p value :\",p)\n",
    "if (z > 1.96 or z < -1.96):\n",
    "    print(\"Z berada pada daerah kritis\")\n",
    "    print(\"Tolak H0, dapat disimpulkan rata-rata sumbu utama tidak sama dengan 116\")\n",
    "else:\n",
    "    print(\"Z tidak berada pada daerah kritis\")\n",
    "    print(\"Gagal tolak H0, dapat disimpulkan rata-rata sumbu utama sama dengan 116\")\n",
    "\n",
    "if (p < 0.05):\n",
    "    print(\"Nilai p < alpha\")\n",
    "    print(\"Kesimpulan tolak H0 benar, dapat disimpulkan rata-rata sumbu utama tidak sama dengan 116\")\n",
    "else:\n",
    "    print(\"Nilai p >= alpha\")\n",
    "    print(\"Kesimpulan Gagal tolak H0 benar, dapat disimpulkan rata-rata sumbu utama sama dengan 116\")"
   ]
  },
  {
   "cell_type": "code",
   "execution_count": 41,
   "metadata": {
    "id": "dYMxrYfPAyf0"
   },
   "outputs": [
    {
     "data": {
      "image/png": "[encoded data removed]",
      "text/plain": [
       "<Figure size 432x288 with 1 Axes>"
      ]
     },
     "metadata": {
      "needs_background": "light"
     },
     "output_type": "display_data"
    },
    {
     "data": {
      "image/png": "[encoded data removed]",
      "text/plain": [
       "<Figure size 432x288 with 1 Axes>"
      ]
     },
     "metadata": {
      "needs_background": "light"
     },
     "output_type": "display_data"
    }
   ],
   "source": [
    "# boxplot\n",
    "createBoxplot(sample, \"sampel Sumbu Utama n = 218\")\n",
    "createBoxplot(df[\"SumbuUtama\"], \"Populasi Sumbu Utama\")"
   ]
  },
  {
   "cell_type": "markdown",
   "metadata": {
    "id": "gESNOUwOnPrv"
   },
   "source": [
    "#### c. Nilai Rata-rata 20 baris pertama kolom Sumbu Kecil bukan 50?"
   ]
  },
  {
   "cell_type": "code",
   "execution_count": 42,
   "metadata": {
    "id": "9tfKH7WynSZW"
   },
   "outputs": [
    {
     "name": "stdout",
     "output_type": "stream",
     "text": [
      "Z :  5.368745408889898\n",
      "p value : 7.928624964898448e-08\n",
      "Z berada pada daerah kritis\n",
      "Tolak H0, dapat disimpulkan rata-rata data 20 sumbu kecil pertama tidak sama dengan 50\n",
      "Nilai p < alpha\n",
      "Kesimpulan tolak H0 benar, dapat disimpulkan rata-rata data 20 sumbu kecil pertama tidak sama dengan 50\n"
     ]
    }
   ],
   "source": [
    "# c. Nilai Rata-rata 20 baris pertama kolom Sumbu Kecil bukan 50?\n",
    "# 1. h0 = 50\n",
    "# 2. h1 != 50\n",
    "# 3. alpha = 0.05, maka \n",
    "# 4. Tes mean z-test, std populasi diketahui, daerah kritis z > 1.96 dan z < -1.96\n",
    "# 5. Hitung nilai uji statistik z = ((x - u0) *  (n**0.5)) / sigma = ...\n",
    "# Dari tabel A3 p-value = P = P(|Z| > z) = 2P(Z < z) = ... (two tailed test)\n",
    "# 6.Kesimpulan dapat dilihat pada hasil perhitungan dibawah ini :\n",
    "\n",
    "n = 20\n",
    "dataSumbuKecil = df[\"SumbuKecil\"].head(20)\n",
    "x = dataSumbuKecil.mean()\n",
    "sigma = dfSumbuKecil['Std'].loc[0] # std populasi\n",
    "\n",
    "# Hitung nilai uji statistik\n",
    "#calculate z\n",
    "z = (calculateZbyMean(x, sigma, n, 50)) \n",
    "# calculate p-value\n",
    "p = stats.norm.sf(abs(z))*2 \n",
    "print(\"Z : \", z)\n",
    "print(\"p value :\",p)\n",
    "\n",
    "if (z > 1.96 or z < -1.96):\n",
    "    print(\"Z berada pada daerah kritis\")\n",
    "    print(\"Tolak H0, dapat disimpulkan rata-rata data 20 sumbu kecil pertama tidak sama dengan 50\")\n",
    "else:\n",
    "    print(\"Z tidak berada pada daerah kritis\")\n",
    "    print(\"Gagal tolak H0, dapat disimpulkan data 20 sumbu kecil pertama sama dengan 50\")\n",
    "\n",
    "if (p < 0.05):\n",
    "    print(\"Nilai p < alpha\")\n",
    "    print(\"Kesimpulan tolak H0 benar, dapat disimpulkan rata-rata data 20 sumbu kecil pertama tidak sama dengan 50\")\n",
    "else:\n",
    "    print(\"Nilai p >= alpha\")\n",
    "    print(\"Kesimpulan Gagal tolak H0 benar, dapat disimpulkan rata-rata data 20 sumbu kecil pertama sama dengan 50\")"
   ]
  },
  {
   "cell_type": "code",
   "execution_count": 43,
   "metadata": {
    "id": "3w94ORnmA0Y7"
   },
   "outputs": [
    {
     "data": {
      "image/png": "[encoded data removed]",
      "text/plain": [
       "<Figure size 432x288 with 1 Axes>"
      ]
     },
     "metadata": {
      "needs_background": "light"
     },
     "output_type": "display_data"
    },
    {
     "data": {
      "image/png": "[encoded data removed]",
      "text/plain": [
       "<Figure size 432x288 with 1 Axes>"
      ]
     },
     "metadata": {
      "needs_background": "light"
     },
     "output_type": "display_data"
    }
   ],
   "source": [
    "# boxplot\n",
    "createBoxplot(dataSumbuKecil, \"sampel Sumbu Kecil n = 20\")\n",
    "createBoxplot(df[\"SumbuKecil\"], \"Populasi Sumbu Kecil\")"
   ]
  },
  {
   "cell_type": "markdown",
   "metadata": {
    "id": "09nrkXDgnS7v"
   },
   "source": [
    "\n",
    "#### d. Proporsi nilai Diameter yang lebih dari 85, adalah tidak sama dengan 15% ?"
   ]
  },
  {
   "cell_type": "code",
   "execution_count": 44,
   "metadata": {
    "id": "RBgoHmeNnW5f"
   },
   "outputs": [
    {
     "name": "stdout",
     "output_type": "stream",
     "text": [
      "Z :  3.471104995051327\n",
      "p value : 0.0005183212899530752\n",
      "Z berada pada daerah kritis\n",
      "Tolak H0, dapat disimpulkan nilai diameter yang lebih dari 85 tidak sama dengan 15%\n",
      "Nilai p < alpha\n",
      "Kesimpulan tolak H0 benar, dapat disimpulkan Nilai diameter yang lebih dari 85 tidak sama dengan 15%\n"
     ]
    }
   ],
   "source": [
    "# TES PROPORSI\n",
    "# LANGKAH HIPOTESIS\n",
    "# 1. H0 : p = 0.15\n",
    "# 2. H1 : p != 0.15\n",
    "# 3. alpha = 0.05\n",
    "# 4. Tes proporsi, Daerah kritis z < -z0.025 or z > z0.025\n",
    "#  --> z > 1.96 or z < -1.96\n",
    "# Tes statistik : Variable binomial X didekati normal dengan p = 0.15 dan random sampling n = 218,  x = (...), didapat dari sample yang memenuhi kondisi diameter > 85\n",
    "# 5. Komputasi\n",
    "# z = (x - np0) / ((np0q0)**0.5) = (...)\n",
    "# p = ... (two tailed test)\n",
    "# 6.Kesimpulan bergatung pada hasil perhitungan dibawah ini\n",
    "\n",
    "alpha = 0.05\n",
    "p = 0.15\n",
    "sample = df[\"Diameter\"].sample(n= 218) #random sampling n = 218\n",
    "n = len(sample)\n",
    "# Jumlah data Diameter > 85 = x\n",
    "x = len(sample.loc[sample > 85])\n",
    "# hitung z dan p-value\n",
    "z = getZbyBinomial(x, n, p)\n",
    "p = stats.norm.sf(abs(z))*2 # calculate p-value\n",
    "print(\"Z : \", z)\n",
    "print(\"p value :\",p)\n",
    "\n",
    "if (z > 1.96 or z < -1.96):\n",
    "    print(\"Z berada pada daerah kritis\")\n",
    "    print(\"Tolak H0, dapat disimpulkan nilai diameter yang lebih dari 85 tidak sama dengan 15%\")\n",
    "else:\n",
    "    print(\"Z tidak berada pada daerah kritis\")\n",
    "    print(\"Gagal tolak H0, dapat disimpulkan Nilai diameter yang lebih dari 85 sama dengan 15%\")\n",
    "\n",
    "if (p < 0.05):\n",
    "    print(\"Nilai p < alpha\")\n",
    "    print(\"Kesimpulan tolak H0 benar, dapat disimpulkan Nilai diameter yang lebih dari 85 tidak sama dengan 15%\")\n",
    "else:\n",
    "    print(\"Nilai p >= alpha\")\n",
    "    print(\"Kesimpulan Gagal tolak H0 benar, dapat disimpulkan Nilai diameter yang lebih dari 85 sama dengan 15%\")"
   ]
  },
  {
   "cell_type": "code",
   "execution_count": 45,
   "metadata": {
    "id": "0FKrvwkVBMoA"
   },
   "outputs": [
    {
     "data": {
      "image/png": "[encoded data removed]",
      "text/plain": [
       "<Figure size 432x288 with 1 Axes>"
      ]
     },
     "metadata": {
      "needs_background": "light"
     },
     "output_type": "display_data"
    },
    {
     "data": {
      "image/png": "[encoded data removed]",
      "text/plain": [
       "<Figure size 432x288 with 1 Axes>"
      ]
     },
     "metadata": {
      "needs_background": "light"
     },
     "output_type": "display_data"
    }
   ],
   "source": [
    "# boxplot\n",
    "createBoxplot(sample, \"Random sampling Diameter n = 218\")\n",
    "createBoxplot(df[\"Diameter\"], \"Populasi Diameter\")"
   ]
  },
  {
   "cell_type": "markdown",
   "metadata": {
    "id": "0u21VO3enXRg"
   },
   "source": [
    "#### e. Proporsi nilai Keliling yang kurang dari 100, adalah kurang dari 5% ?"
   ]
  },
  {
   "cell_type": "code",
   "execution_count": 46,
   "metadata": {
    "id": "P8_upG9lndvg"
   },
   "outputs": [
    {
     "name": "stdout",
     "output_type": "stream",
     "text": [
      "Z :  -3.387282717832439\n",
      "p value : 0.0003529430303822529\n",
      "Z berada pada daerah kritis\n",
      "Tolak H0, dapat disimpulkan nilai Keliling yang kurang dari 100, adalah kurang dari 5% \n",
      "Nilai p < alpha\n",
      "Kesimpulan tolak H0 benar, dapat disimpulkan nilai Keliling yang kurang dari 100, adalah kurang dari 5%\n"
     ]
    }
   ],
   "source": [
    "# TES PROPORSI n besar\n",
    "# LANGKAH HIPOTESIS\n",
    "# 1. H0 : p = 0.05\n",
    "# 2. H1 : p < 0.05\n",
    "# 3. alpha = 0.05, \n",
    "# 4. Tes proporsi, daerah kritis z < -z(0.05) = -1.645\n",
    "# Tes statistik : variabel binomial X didekati normal dengan p = 0.05,n = 218, x = 0\n",
    "# 5. Komputasi\n",
    "# z = (x - np0) / ((np0q0)**0.5) = (...)\n",
    "# karena z < -1.645, berada pada daerah kritis, maka tolak H0\n",
    "# P = P(Z < z) = (..)\n",
    "# 6. Kesimpulan bergantung hasil dibawah\n",
    "\n",
    "alpha = 0.05\n",
    "p = 0.05\n",
    "sample = df[\"Keliling\"].sample(n= 218) #random sampling n = 218\n",
    "n = len(sample)\n",
    "x = len(sample.loc[sample < 100])\n",
    "\n",
    "# hitung z dan p-value\n",
    "z = getZbyBinomial(x, n, p)\n",
    "p = stats.norm.sf(abs(z)) # calculate p-value\n",
    "print(\"Z : \", z)\n",
    "print(\"p value :\",p)\n",
    "\n",
    "if (z < -1.645):\n",
    "    print(\"Z berada pada daerah kritis\")\n",
    "    print(\"Tolak H0, dapat disimpulkan nilai Keliling yang kurang dari 100, adalah kurang dari 5% \")\n",
    "else:\n",
    "    print(\"Z tidak berada pada daerah kritis\")\n",
    "    print(\"Gagal tolak H0, dapat disimpulkan nilai Keliling yang kurang dari 100, adalah sama dengan 5% \")\n",
    "\n",
    "if (p < 0.05):\n",
    "    print(\"Nilai p < alpha\")\n",
    "    print(\"Kesimpulan tolak H0 benar, dapat disimpulkan nilai Keliling yang kurang dari 100, adalah kurang dari 5%\")\n",
    "else:\n",
    "    print(\"Nilai p >= alpha\")\n",
    "    print(\"Kesimpulan Gagal tolak H0 benar, dapat disimpulkan nilai Keliling yang kurang dari 100, adalah sama dengan 5% \")"
   ]
  },
  {
   "cell_type": "code",
   "execution_count": 47,
   "metadata": {
    "id": "L_jeL6sBBxsM"
   },
   "outputs": [
    {
     "data": {
      "image/png": "[encoded data removed]",
      "text/plain": [
       "<Figure size 432x288 with 1 Axes>"
      ]
     },
     "metadata": {
      "needs_background": "light"
     },
     "output_type": "display_data"
    },
    {
     "data": {
      "image/png": "[encoded data removed]",
      "text/plain": [
       "<Figure size 432x288 with 1 Axes>"
      ]
     },
     "metadata": {
      "needs_background": "light"
     },
     "output_type": "display_data"
    }
   ],
   "source": [
    "# boxplot\n",
    "createBoxplot(sample, \"Random sampling Keliling n = 218\")\n",
    "createBoxplot(df[\"Keliling\"], \"Populasi Keliling\")"
   ]
  },
  {
   "cell_type": "markdown",
   "metadata": {
    "id": "FzZHAz23x0GS"
   },
   "source": [
    "### 5. Melakukan test hipotesis 2 sampel, dengan menuliskan 6 langkah testing dan menampilkan juga boxplotnya untuk kolom/bagian yang bersesuaian."
   ]
  },
  {
   "cell_type": "code",
   "execution_count": 49,
   "metadata": {
    "id": "JLD1VOYFpV0C"
   },
   "outputs": [],
   "source": [
    "def calculateZ2mean(x1,x2, d0, sigma1, sigma2, n1, n2):\n",
    "    pembilang = (x1 - x2) - d0\n",
    "    penyebut = math.sqrt(((sigma1**2) / n1) + ((sigma2**2) / n2))\n",
    "    return pembilang/penyebut"
   ]
  },
  {
   "cell_type": "markdown",
   "metadata": {
    "id": "SKUkVYmUyBdY"
   },
   "source": [
    "#### a. Data kolom AreaBulatan dibagi 2 sama rata: bagian awal dan bagian akhir kolom.\n",
    "Benarkah rata-rata kedua bagian tersebut sama?"
   ]
  },
  {
   "cell_type": "code",
   "execution_count": 50,
   "metadata": {
    "id": "et-sZR4zl_su"
   },
   "outputs": [],
   "source": [
    "# TES HIPOTESIS \n",
    "# miu1 = rata rata bagian atas\n",
    "# miu2 = rata-rata bagian bawah\n",
    "# 1. H0 : miu1 - miu2 = 0\n",
    "# 2. H1 : miu1 - miu2 != 0\n",
    "# 3. alpha = 0.05\n",
    "# 4. Uji statistik Tes mean z, standar deviasi populasi diketahui, two tailed test daerah kritis z < -z(a/2) or z > z(a/2)\n",
    "#    daerah kritis z > 1.96 or z < -1.96\n",
    "# 5. Hitung nilai z dan p-value\n",
    "# z = (x1 - x2) - d0 / (math.sqrt(((sigma1**2) / n1) + ((sigma2**2) / n2))) =(...)\n",
    "# p = (...)\n",
    "# 6. Kesimpulan didapat dari hasil dibawah ini"
   ]
  },
  {
   "cell_type": "code",
   "execution_count": 51,
   "metadata": {
    "id": "iZPNd72ZmFKj"
   },
   "outputs": [
    {
     "name": "stdout",
     "output_type": "stream",
     "text": [
      "Critical value :  1.959963984540054\n",
      "Z :  12.746517118629198\n",
      "p value : 3.2598683150525767e-37\n",
      "Z berada pada daerah kritis\n",
      "Tolak H0, dapat disimpulkan rata-rata kedua bagian tersebut tidak sama\n",
      "Nilai p < alpha\n",
      "Kesimpulan tolak H0 benar, dapat disimpulkan rata-rata kedua bagian tersebut tidak sama\n"
     ]
    }
   ],
   "source": [
    "alpha = 0.05\n",
    "# Tentukan dataframe\n",
    "atas = df[\"AreaBulatan\"].head(250)\n",
    "bawah = df[\"AreaBulatan\"].tail(250)\n",
    "d0 = 0\n",
    "sigma1 = atas.std()\n",
    "sigma2 = bawah.std()\n",
    "# n = 152, populasi 250, margin of error  5%\n",
    "sample1 = atas.sample(n= 152) #random sampling n = 152\n",
    "sample2 = bawah.sample(n= 152) #random sampling n = 152\n",
    "n1 = len(sample1)\n",
    "n2 = len(sample2)\n",
    "x1 = sample1.mean()\n",
    "x2 = sample2.mean()\n",
    "crit = stats.norm.ppf(1-alpha/2) # critical value\n",
    "print(\"Critical value : \",crit)\n",
    "z = calculateZ2mean(x1,x2, d0, sigma1, sigma2, n1, n2)\n",
    "p = stats.norm.sf(abs(z))*2 # calculate p-value\n",
    "print(\"Z : \", z)\n",
    "print(\"p value :\",p)\n",
    "if (z < -crit or z > crit):\n",
    "    print(\"Z berada pada daerah kritis\")\n",
    "    print(\"Tolak H0, dapat disimpulkan rata-rata kedua bagian tersebut tidak sama\")\n",
    "else:\n",
    "    print(\"Z tidak berada pada daerah kritis\")\n",
    "    print(\"Gagal tolak H0, dapat disimpulkan rata-rata kedua bagian tersebut sama \")\n",
    "\n",
    "if (p < 0.05):\n",
    "    print(\"Nilai p < alpha\")\n",
    "    print(\"Kesimpulan tolak H0 benar, dapat disimpulkan rata-rata kedua bagian tersebut tidak sama\")\n",
    "else:\n",
    "    print(\"Nilai p >= alpha\")\n",
    "    print(\"Kesimpulan Gagal tolak H0 benar, dapat disimpulkan rata-rata kedua bagian tersebut sama\")"
   ]
  },
  {
   "cell_type": "code",
   "execution_count": 52,
   "metadata": {},
   "outputs": [
    {
     "data": {
      "image/png": "[encoded data removed]",
      "text/plain": [
       "<Figure size 432x288 with 1 Axes>"
      ]
     },
     "metadata": {
      "needs_background": "light"
     },
     "output_type": "display_data"
    },
    {
     "data": {
      "image/png": "[encoded data removed]",
      "text/plain": [
       "<Figure size 432x288 with 1 Axes>"
      ]
     },
     "metadata": {
      "needs_background": "light"
     },
     "output_type": "display_data"
    },
    {
     "data": {
      "image/png": "[encoded data removed]",
      "text/plain": [
       "<Figure size 432x288 with 1 Axes>"
      ]
     },
     "metadata": {
      "needs_background": "light"
     },
     "output_type": "display_data"
    }
   ],
   "source": [
    "# boxplot\n",
    "createBoxplot(sample1, \"Random Sampel Bagian Awal Area Bulatan n = 152\")\n",
    "createBoxplot(sample2, \"Random Sampel Bagian Akhir Area Bulatan n = 152\")\n",
    "createBoxplot(df[\"AreaBulatan\"], \"Populasi Area Bulatan\")"
   ]
  },
  {
   "cell_type": "markdown",
   "metadata": {
    "id": "_NkW8ybCyE65"
   },
   "source": [
    "#### b. Data kolom Kadar Air dibagi 2 sama rata: bagian awal dan bagian akhir kolom. Benarkah\n",
    "rata-rata bagian awal lebih besar dari pada bagian akhir sebesar 0.2?"
   ]
  },
  {
   "cell_type": "code",
   "execution_count": 53,
   "metadata": {
    "id": "W_7mnkyYyJ5s"
   },
   "outputs": [],
   "source": [
    "# TES HIPOTESIS \n",
    "# miu1 = rata rata bagian atas\n",
    "# miu2 = rata-rata bagian bawah\n",
    "# 1. H0 : miu1 - miu2 = 0.2\n",
    "# 2. H1 : miu1 - miu2 != 0.2\n",
    "# 3. alpha = 0.05\n",
    "# 4. Uji statistik Tes mean z, standar deviasi populasi diketahui, two tailed test daerah kritis z < -z(a/2) or z > z(a/2)\n",
    "#    daerah kritis z > 1.96 or z < -1.96\n",
    "# 5. Hitung nilai z dan p-value\n",
    "# z = (x1 - x2) - d0 / (math.sqrt(((sigma1**2) / n1) + ((sigma2**2) / n2))) =(...)\n",
    "# p = (...)\n",
    "# 6. Kesimpulan didapat dari hasil dibawah ini"
   ]
  },
  {
   "cell_type": "code",
   "execution_count": 54,
   "metadata": {
    "id": "UMSXzHMRshmS"
   },
   "outputs": [
    {
     "name": "stdout",
     "output_type": "stream",
     "text": [
      "Critical value :  1.959963984540054\n",
      "Z :  -21.21727348083455\n",
      "p value : 6.615042108343164e-100\n",
      "Z berada pada daerah kritis\n",
      "Tolak H0, dapat disimpulkan rata-rata bagian awal lebih besar daripada bagian akhir tidak sebesar 0.2\n",
      "Nilai p < alpha\n",
      "Kesimpulan tolak H0 benar, dapat disimpulkan rata-rata bagian awal lebih besar daripada bagian akhir tidak sebesar 0.2\n"
     ]
    }
   ],
   "source": [
    "alpha = 0.05\n",
    "# Tentukan dataframe\n",
    "atas = df[\"KadarAir\"].head(250)\n",
    "bawah = df[\"KadarAir\"].tail(250)\n",
    "d0 = 0.2\n",
    "sigma1 = atas.std()\n",
    "sigma2 = bawah.std()\n",
    "# n = 152, populasi 250, margin of error  5%\n",
    "sample1 = atas.sample(n= 152) #random sampling n = 152\n",
    "sample2 = bawah.sample(n= 152) #random sampling n = 152\n",
    "n1 = len(sample1)\n",
    "n2 = len(sample2)\n",
    "x1 = sample1.mean()\n",
    "x2 = sample2.mean()\n",
    "\n",
    "crit = stats.norm.ppf(1-alpha/2) # critical value\n",
    "print(\"Critical value : \",crit)\n",
    "z = calculateZ2mean(x1,x2, d0, sigma1, sigma2, n1, n2)\n",
    "p = stats.norm.sf(abs(z))*2 # calculate p-value\n",
    "print(\"Z : \", z)\n",
    "print(\"p value :\",p)\n",
    "if (z < -crit or z > crit):\n",
    "    print(\"Z berada pada daerah kritis\")\n",
    "    print(\"Tolak H0, dapat disimpulkan rata-rata bagian awal lebih besar daripada bagian akhir tidak sebesar 0.2\")\n",
    "else:\n",
    "    print(\"Z tidak berada pada daerah kritis\")\n",
    "    print(\"Gagal tolak H0, dapat disimpulkan rata-rata bagian awal lebih besar daripada bagian akhir sebesar 0.2\")\n",
    "\n",
    "if (p < 0.05):\n",
    "    print(\"Nilai p < alpha\")\n",
    "    print(\"Kesimpulan tolak H0 benar, dapat disimpulkan rata-rata bagian awal lebih besar daripada bagian akhir tidak sebesar 0.2\")\n",
    "else:\n",
    "    print(\"Nilai p >= alpha\")\n",
    "    print(\"Kesimpulan Gagal tolak H0 benar, rata-rata bagian awal lebih besar daripada bagian akhir sebesar 0.2\")"
   ]
  },
  {
   "cell_type": "code",
   "execution_count": 55,
   "metadata": {
    "id": "AcLFvG3ushW_"
   },
   "outputs": [
    {
     "data": {
      "image/png": "[encoded data removed]",
      "text/plain": [
       "<Figure size 432x288 with 1 Axes>"
      ]
     },
     "metadata": {
      "needs_background": "light"
     },
     "output_type": "display_data"
    },
    {
     "data": {
      "image/png": "[encoded data removed]",
      "text/plain": [
       "<Figure size 432x288 with 1 Axes>"
      ]
     },
     "metadata": {
      "needs_background": "light"
     },
     "output_type": "display_data"
    },
    {
     "data": {
      "image/png": "[encoded data removed]",
      "text/plain": [
       "<Figure size 432x288 with 1 Axes>"
      ]
     },
     "metadata": {
      "needs_background": "light"
     },
     "output_type": "display_data"
    }
   ],
   "source": [
    "# boxplot\n",
    "createBoxplot(sample1, \"Random Sampel Bagian Awal Kadar Air n = 152\")\n",
    "createBoxplot(sample2, \"Random Sampel Bagian Akhir Kadar Air n = 152\")\n",
    "createBoxplot(df[\"KadarAir\"], \"Populasi Kadar Air\")"
   ]
  },
  {
   "cell_type": "markdown",
   "metadata": {
    "id": "azNlE8IuyKVL"
   },
   "source": [
    "#### c. Rata-rata 20 baris pertama kolom Bulatan sama dengan 20 baris terakhirnya?"
   ]
  },
  {
   "cell_type": "code",
   "execution_count": 56,
   "metadata": {
    "id": "HA3aVgDDyQ2B"
   },
   "outputs": [],
   "source": [
    "# Langkah hipotesis\n",
    "# miu1 = rata rata 20 baris pertama\n",
    "# miu2 = rata-rata 20 baris terakhir\n",
    "# 1. H0 : miu1 - miu2 = 0\n",
    "# 2. H1 : miu1 - miu2 != 0\n",
    "# 3. alpha = 0.05\n",
    "# 4. Uji statistik Tes mean z, standar deviasi populasi diketahui, two tailed test daerah kritis z < -z(a/2) or z > z(a/2)\n",
    "#    daerah kritis z > 1.96 or z < -1.96\n",
    "# 5. Hitung nilai z dan p-value\n",
    "# z = (x1 - x2) - d0 / (math.sqrt(((sigma1**2) / n1) + ((sigma2**2) / n2))) = (...)\n",
    "# p = (...)\n",
    "# 6. Kesimpulan didapat dari hasil dibawah ini"
   ]
  },
  {
   "cell_type": "code",
   "execution_count": 61,
   "metadata": {
    "id": "rpV1lIF4Msgn"
   },
   "outputs": [
    {
     "name": "stdout",
     "output_type": "stream",
     "text": [
      "Critical value : 1.959963984540054\n",
      "Z : -1.8186931775787083\n",
      "p value : 0.06895825316348737\n",
      "Z tidak berada pada daerah kritis\n",
      "Gagal tolak H0, dapat disimpulkan rata rata 20 baris pertama sama dengan rata rata 20 baris terakhir\n"
     ]
    }
   ],
   "source": [
    "alpha = 0.05\n",
    "# Tentukan dataframe\n",
    "sigma1 = df[\"Bulatan\"].head(250).std() # populasi atas\n",
    "sigma2 = df[\"Bulatan\"].tail(250).std() # populasi bawah\n",
    "sample1= df[\"Bulatan\"].head(20)\n",
    "sample2 = df[\"Bulatan\"].tail(20)\n",
    "d0 = 0\n",
    "n1 = len(sample1)\n",
    "n2 = len(sample2)\n",
    "x1 = sample1.mean()\n",
    "x2 = sample2.mean()\n",
    "# hitung titik kritis\n",
    "crit = stats.norm.ppf(1-alpha/2) # critical value\n",
    "print(\"Critical value :\",crit)\n",
    "\n",
    "# Hitung z dan p-value\n",
    "z = calculateZ2mean(x1,x2, d0, sigma1, sigma2, n1, n2)\n",
    "p = stats.norm.sf(abs(z))*2 # calculate p-value\n",
    "print(\"Z :\", z)\n",
    "print(\"p value :\",p)\n",
    "# Kesimpulan\n",
    "if (z < -crit or z > crit):\n",
    "    print(\"Z berada pada daerah kritis\")\n",
    "    print(\"Tolak H0, dapat disimpulkan rata-rata rata rata 20 baris pertama Bulatan tidak sama dengan rata rata 20 baris Terakhir\")\n",
    "else:\n",
    "    print(\"Z tidak berada pada daerah kritis\")\n",
    "    print(\"Gagal tolak H0, dapat disimpulkan rata rata 20 baris pertama sama dengan rata rata 20 baris terakhir\")\n",
    "  "
   ]
  },
  {
   "cell_type": "code",
   "execution_count": 62,
   "metadata": {},
   "outputs": [
    {
     "data": {
      "image/png": "[encoded data removed]",
      "text/plain": [
       "<Figure size 432x288 with 1 Axes>"
      ]
     },
     "metadata": {
      "needs_background": "light"
     },
     "output_type": "display_data"
    },
    {
     "data": {
      "image/png": "[encoded data removed]",
      "text/plain": [
       "<Figure size 432x288 with 1 Axes>"
      ]
     },
     "metadata": {
      "needs_background": "light"
     },
     "output_type": "display_data"
    },
    {
     "data": {
      "image/png": "[encoded data removed]",
      "text/plain": [
       "<Figure size 432x288 with 1 Axes>"
      ]
     },
     "metadata": {
      "needs_background": "light"
     },
     "output_type": "display_data"
    }
   ],
   "source": [
    "# boxplot\n",
    "createBoxplot(sample1, \"Sampel 20 Baris Pertama Bulatan n = 20\")\n",
    "createBoxplot(sample2, \"Sampel 20 Baris Terakhir Bulatan n = 20\")\n",
    "createBoxplot(df[\"Bulatan\"], \"Populasi Bulatan\")"
   ]
  },
  {
   "cell_type": "markdown",
   "metadata": {
    "id": "JGP9KDsTyRKs"
   },
   "source": [
    "#### d. Proporsi nilai bagian awal Ransum yang lebih dari 2, adalah lebih besar daripada, proporsi nilai yang sama di bagian akhir Ransum?"
   ]
  },
  {
   "cell_type": "code",
   "execution_count": 63,
   "metadata": {
    "id": "RZihkKasyWYw"
   },
   "outputs": [],
   "source": [
    "# TES HIPOTESIS\n",
    "# P1 = proporsi bagian awal > 2\n",
    "# P2 = proporsi bagian akhir > 2\n",
    "# 1. H0: P1 = P2\n",
    "# 2. H1: P1 > P2\n",
    "# 3. alpha = 0.05\n",
    "# 4. Normal, z. Critical region z>z_alpha.\n",
    "# 5. hitung uji statistik dan p value\n",
    "# z = (p1 - p2)/(p*(1-p)*(1/250 + 1/250))**0.5\n",
    "# p = (..)"
   ]
  },
  {
   "cell_type": "code",
   "execution_count": 64,
   "metadata": {
    "id": "EJV7osHsVmtZ"
   },
   "outputs": [
    {
     "name": "stdout",
     "output_type": "stream",
     "text": [
      "Critical value : 1.6448536269514729\n",
      "Z : 7.481486165157404\n",
      "p value : 3.6743388382893304e-14\n",
      "Z berada pada daerah kritis\n",
      "Tolak H0, dapat disimpulkan proporsi nilai bagian awal Ransum yang lebih dari 2, adalah lebih besar daripada, proporsi nilai yang sama di bagian akhir Ransum\n"
     ]
    }
   ],
   "source": [
    "#6 Kesimpulan\n",
    "sample1 = df['Ransum'].head(250).sample(n=152)\n",
    "sample2 = df['Ransum'].tail(250).sample(n=152)\n",
    "\n",
    "# critical value\n",
    "crit = stats.norm.isf(0.05) \n",
    "print(\"Critical value :\",crit)\n",
    "\n",
    "# Menghitung uji statistik\n",
    "p1 = (sample1>2).sum()/250\n",
    "p2 = (sample2>2).sum()/250\n",
    "p = ((sample1>2).sum() + (sample2>2).sum())/500\n",
    "\n",
    "# Menghitung z score\n",
    "z = (p1 - p2)/(p*(1-p)*(1/250 + 1/250))**0.5\n",
    "\n",
    "# Menghitung p-value\n",
    "p = stats.norm.sf(z)\n",
    "\n",
    "print(\"Z :\", z)\n",
    "print(\"p value :\",p)\n",
    "\n",
    "if (z > crit):\n",
    "    print(\"Z berada pada daerah kritis\")\n",
    "    print(\"Tolak H0, dapat disimpulkan proporsi nilai bagian awal Ransum yang lebih dari 2, adalah lebih besar daripada, proporsi nilai yang sama di bagian akhir Ransum\")\n",
    "else:\n",
    "    print(\"Z tidak berada pada daerah kritis\")\n",
    "    print(\"Gagal tolak H0, dapat disimpulkan proporsi nilai bagian awal Ransum yang lebih dari 2, tidak lebih besar daripada, proporsi nilai yang sama di bagian akhir Ransum\")\n",
    "  \n"
   ]
  },
  {
   "cell_type": "code",
   "execution_count": 65,
   "metadata": {},
   "outputs": [
    {
     "data": {
      "image/png": "[encoded data removed]",
      "text/plain": [
       "<Figure size 432x288 with 1 Axes>"
      ]
     },
     "metadata": {
      "needs_background": "light"
     },
     "output_type": "display_data"
    },
    {
     "data": {
      "image/png": "[encoded data removed]",
      "text/plain": [
       "<Figure size 432x288 with 1 Axes>"
      ]
     },
     "metadata": {
      "needs_background": "light"
     },
     "output_type": "display_data"
    },
    {
     "data": {
      "image/png": "[encoded data removed]",
      "text/plain": [
       "<Figure size 432x288 with 1 Axes>"
      ]
     },
     "metadata": {
      "needs_background": "light"
     },
     "output_type": "display_data"
    }
   ],
   "source": [
    "# boxplot\n",
    "createBoxplot(sample1, \"Random Sampel Bagian Awal Ransum n = 152\")\n",
    "createBoxplot(sample2, \"Random Sampel Bagian Akhir Ransum n = 152\")\n",
    "createBoxplot(df[\"Ransum\"], \"Populasi Ransum\")"
   ]
  },
  {
   "cell_type": "markdown",
   "metadata": {
    "id": "qLh3CmLSyW0w"
   },
   "source": [
    "#### e. Bagian awal kolom Diameter memiliki variansi yang sama dengan bagian akhirnya?"
   ]
  },
  {
   "cell_type": "code",
   "execution_count": 75,
   "metadata": {
    "id": "tKmPPcriya8V",
    "outputId": "8b8c65dd-ec85-49f1-81c5-2836759e93b9"
   },
   "outputs": [
    {
     "name": "stdout",
     "output_type": "stream",
     "text": [
      "Critical value : f < 0.7795916576054985 atau f > 0.7795916576054985\n",
      "F :  1.355571121047759\n",
      "p value : 0.00834937751160385\n",
      "F berada pada daerah kritis\n",
      "Tolak H0, dapat disimpulkan variansi bagian awal tidak sama dengan bagian akhir\n"
     ]
    }
   ],
   "source": [
    "# TES HIPOTESIS\n",
    "#  s1^2 = variansi bagian awal\n",
    "#  s2^2 = variansi bagian akhir\n",
    "# 1. H0 : s1^2 = s2^2\n",
    "# 2. H1 : s1^2 != s2^2\n",
    "# 3. alpha = 0.05,\n",
    "# 4. f distribution, two tailed daerah kritis f< f_0.975(249, 249) = 0.78 atau f> f_0.025(249, 249) = 1.28\n",
    "# 5. Hitung nilai uji statistik f dan p-value\n",
    "# f = s1^2/s2^2 \n",
    "# P-value = P(F < f) = (...)\n",
    "# 6. Kesimpulan\n",
    "n1 = 250\n",
    "n2 = 250\n",
    "v1 = n1-1\n",
    "v2 = n2-1\n",
    "\n",
    "# Mengambil sample dan nilai variansi sample\n",
    "sample1 = df['Diameter'].head(n1).sample(n=152)\n",
    "sample2 = df['Diameter'].tail(n2).sample(n=152)\n",
    "\n",
    "s1_2 = sample1.var()\n",
    "s2_2 = sample2.var()\n",
    "\n",
    "# nilai f\n",
    "f = s1_2/s2_2\n",
    "\n",
    "# Daerah kritis\n",
    "# atas\n",
    "crit_atas = stats.f.isf(q=0.975, dfn=v1, dfd=v2)\n",
    "\n",
    "# bawah\n",
    "crit_bawah = stats.f.isf(q=0.025, dfn=v1, dfd=v2)\n",
    "\n",
    "# p-value\n",
    "p = stats.f.sf(f, dfn=v1, dfd=v2)\n",
    "\n",
    "print('Critical value : f < {0} atau f > {0}'.format(crit_atas, crit_bawah))\n",
    "print(\"F : \", f)\n",
    "print(\"p value :\",p)\n",
    "\n",
    "if(f<crit_atas or f>crit_bawah):\n",
    "  print(\"F berada pada daerah kritis\")\n",
    "  print(\"Tolak H0, dapat disimpulkan variansi bagian awal tidak sama dengan bagian akhir\")\n",
    "else:\n",
    "  print(\"F tidak berada pada daerah kritis\")\n",
    "  print(\"Gagal tolak H0, dapat disimpulkan variansi bagian awal sama dengan bagian akhir\")"
   ]
  },
  {
   "cell_type": "code",
   "execution_count": 76,
   "metadata": {
    "id": "ji4hvgx_suZn"
   },
   "outputs": [
    {
     "data": {
      "image/png": "[encoded data removed]",
      "text/plain": [
       "<Figure size 432x288 with 1 Axes>"
      ]
     },
     "metadata": {
      "needs_background": "light"
     },
     "output_type": "display_data"
    },
    {
     "data": {
      "image/png": "[encoded data removed]",
      "text/plain": [
       "<Figure size 432x288 with 1 Axes>"
      ]
     },
     "metadata": {
      "needs_background": "light"
     },
     "output_type": "display_data"
    },
    {
     "data": {
      "image/png": "[encoded data removed]",
      "text/plain": [
       "<Figure size 432x288 with 1 Axes>"
      ]
     },
     "metadata": {
      "needs_background": "light"
     },
     "output_type": "display_data"
    }
   ],
   "source": [
    "# boxplot\n",
    "createBoxplot(sample1, \"Random Sampel Bagian Awal Diameter n = 152\")\n",
    "createBoxplot(sample2, \"Random Sampel Bagian Akhir Diameter n = 152\")\n",
    "createBoxplot(df[\"Diameter\"], \"Populasi Diameter\")"
   ]
  },
  {
   "cell_type": "markdown",
   "metadata": {
    "id": "Mgwls2Lnyc1v"
   },
   "source": [
    "### 6. Test korelasi: tentukan apakah setiap kolom non-target berkorelasi dengan kolom target, dengan menggambarkan juga scatter plot nya. Gunakan correlation test."
   ]
  },
  {
   "cell_type": "markdown",
   "metadata": {
    "id": "tYTiX1LUSaN7"
   },
   "source": [
    "#### Daerah"
   ]
  },
  {
   "cell_type": "markdown",
   "metadata": {
    "id": "dMaRi6iozaUz"
   },
   "source": [
    "Berdasarkan corelation test didapat nilai corelation sebesar `-0.602747`. Dengan nilai tersebut, dapat disimpulkan bahwa kolom `Daerah` berkorelasi negatif secara moderat dengan kolom `Kelas`. Klaim tersebut diperkuat dengan hasil scatter plot yang menunjukkan terdapat kecenderungan untuk nilai kolom `Daerah` yang mendekati titik ekstrem untuk berada pada klasifikasi kelas yang berbeda. Nilai kolom `Daerah` yang mendekati nilai minimum cenderung berada pada `Kelas 2`, sebaliknya nilai yang mendekati nilai maksimum cenderung berada pada `Kelas 1`"
   ]
  },
  {
   "cell_type": "code",
   "execution_count": 77,
   "metadata": {
    "id": "yJS4PLV-QKjw",
    "outputId": "a51eb53e-2c06-4a17-e6fe-62c98014b542"
   },
   "outputs": [
    {
     "data": {
      "text/html": [
       "<div>\n",
       "<style scoped>\n",
       "    .dataframe tbody tr th:only-of-type {\n",
       "        vertical-align: middle;\n",
       "    }\n",
       "\n",
       "    .dataframe tbody tr th {\n",
       "        vertical-align: top;\n",
       "    }\n",
       "\n",
       "    .dataframe thead th {\n",
       "        text-align: right;\n",
       "    }\n",
       "</style>\n",
       "<table border=\"1\" class=\"dataframe\">\n",
       "  <thead>\n",
       "    <tr style=\"text-align: right;\">\n",
       "      <th></th>\n",
       "      <th>Daerah</th>\n",
       "      <th>Kelas</th>\n",
       "    </tr>\n",
       "  </thead>\n",
       "  <tbody>\n",
       "    <tr>\n",
       "      <th>Daerah</th>\n",
       "      <td>1.000000</td>\n",
       "      <td>-0.602747</td>\n",
       "    </tr>\n",
       "    <tr>\n",
       "      <th>Kelas</th>\n",
       "      <td>-0.602747</td>\n",
       "      <td>1.000000</td>\n",
       "    </tr>\n",
       "  </tbody>\n",
       "</table>\n",
       "</div>"
      ],
      "text/plain": [
       "          Daerah     Kelas\n",
       "Daerah  1.000000 -0.602747\n",
       "Kelas  -0.602747  1.000000"
      ]
     },
     "execution_count": 77,
     "metadata": {},
     "output_type": "execute_result"
    }
   ],
   "source": [
    "# Correlation test\n",
    "df[['Daerah', 'Kelas']].corr()"
   ]
  },
  {
   "cell_type": "code",
   "execution_count": 78,
   "metadata": {
    "id": "XksKoK9sULn9",
    "outputId": "40cc60b1-b915-432b-aa83-64c7c6184bfa"
   },
   "outputs": [
    {
     "data": {
      "image/png": "[encoded data removed]",
      "text/plain": [
       "<Figure size 432x288 with 1 Axes>"
      ]
     },
     "metadata": {
      "needs_background": "light"
     },
     "output_type": "display_data"
    }
   ],
   "source": [
    "# Scatter plot\n",
    "plt.scatter(df['Daerah'], df['Kelas'])\n",
    "plt.show()"
   ]
  },
  {
   "cell_type": "markdown",
   "metadata": {
    "id": "Syt6SzqlTANZ"
   },
   "source": [
    "#### Sumbu Utama"
   ]
  },
  {
   "cell_type": "markdown",
   "metadata": {
    "id": "g_k_r0tr1SrS"
   },
   "source": [
    "Berdasarkan corelation test didapat nilai corelation sebesar `-0.713091`. Dengan nilai tersebut, dapat disimpulkan bahwa kolom `Sumbu Utama` berkorelasi negatif secara cukup kuat dengan kolom `Kelas`. Pada scatter plot, terlihat bahwa nilai `Sumbu Utama` yang mendekati nilai minimum akan cenderung berada pada `Kelas 2` dan nilai `Sumbu Utama` yang bernilai lebih dari 140 akan berada pada `Kelas 1`\n"
   ]
  },
  {
   "cell_type": "code",
   "execution_count": 79,
   "metadata": {
    "id": "ywdWTvroTFTk",
    "outputId": "af5caa18-0934-4f46-f89c-3d0878cab1a6"
   },
   "outputs": [
    {
     "data": {
      "text/html": [
       "<div>\n",
       "<style scoped>\n",
       "    .dataframe tbody tr th:only-of-type {\n",
       "        vertical-align: middle;\n",
       "    }\n",
       "\n",
       "    .dataframe tbody tr th {\n",
       "        vertical-align: top;\n",
       "    }\n",
       "\n",
       "    .dataframe thead th {\n",
       "        text-align: right;\n",
       "    }\n",
       "</style>\n",
       "<table border=\"1\" class=\"dataframe\">\n",
       "  <thead>\n",
       "    <tr style=\"text-align: right;\">\n",
       "      <th></th>\n",
       "      <th>SumbuUtama</th>\n",
       "      <th>Kelas</th>\n",
       "    </tr>\n",
       "  </thead>\n",
       "  <tbody>\n",
       "    <tr>\n",
       "      <th>SumbuUtama</th>\n",
       "      <td>1.000000</td>\n",
       "      <td>-0.713091</td>\n",
       "    </tr>\n",
       "    <tr>\n",
       "      <th>Kelas</th>\n",
       "      <td>-0.713091</td>\n",
       "      <td>1.000000</td>\n",
       "    </tr>\n",
       "  </tbody>\n",
       "</table>\n",
       "</div>"
      ],
      "text/plain": [
       "            SumbuUtama     Kelas\n",
       "SumbuUtama    1.000000 -0.713091\n",
       "Kelas        -0.713091  1.000000"
      ]
     },
     "execution_count": 79,
     "metadata": {},
     "output_type": "execute_result"
    }
   ],
   "source": [
    "# Correlation test\n",
    "df[['SumbuUtama', 'Kelas']].corr()"
   ]
  },
  {
   "cell_type": "code",
   "execution_count": 80,
   "metadata": {
    "id": "yT5_8uZJUtRe",
    "outputId": "24e4f4a8-3738-47e8-f670-655ad076050d"
   },
   "outputs": [
    {
     "data": {
      "image/png": "[encoded data removed]",
      "text/plain": [
       "<Figure size 432x288 with 1 Axes>"
      ]
     },
     "metadata": {
      "needs_background": "light"
     },
     "output_type": "display_data"
    }
   ],
   "source": [
    "# Scatter plot\n",
    "plt.scatter(df['SumbuUtama'], df['Kelas'])\n",
    "plt.show()"
   ]
  },
  {
   "cell_type": "markdown",
   "metadata": {
    "id": "yoHt-FsBTGm6"
   },
   "source": [
    "#### Sumbu Kecil"
   ]
  },
  {
   "cell_type": "markdown",
   "metadata": {
    "id": "-8gs8AcT2PCh"
   },
   "source": [
    "Berdasarkan corelation test didapat nilai corelation sebesar `-0.152975`. Dengan nilai tersebut, dapat disimpulkan bahwa kolom `Sumbu Kecil` berkorelasi negatif secara lemah dengan kolom `Kelas`. Pada scatter plot, tidak begitu terlihat pola yang terbentuk oleh kolom `Sumbu Kecil` dan `Kelas`."
   ]
  },
  {
   "cell_type": "code",
   "execution_count": 81,
   "metadata": {
    "id": "W2B5WlYcURK7",
    "outputId": "f9b3f987-92a2-4801-c288-8a1107b7d6cb"
   },
   "outputs": [
    {
     "data": {
      "text/html": [
       "<div>\n",
       "<style scoped>\n",
       "    .dataframe tbody tr th:only-of-type {\n",
       "        vertical-align: middle;\n",
       "    }\n",
       "\n",
       "    .dataframe tbody tr th {\n",
       "        vertical-align: top;\n",
       "    }\n",
       "\n",
       "    .dataframe thead th {\n",
       "        text-align: right;\n",
       "    }\n",
       "</style>\n",
       "<table border=\"1\" class=\"dataframe\">\n",
       "  <thead>\n",
       "    <tr style=\"text-align: right;\">\n",
       "      <th></th>\n",
       "      <th>SumbuKecil</th>\n",
       "      <th>Kelas</th>\n",
       "    </tr>\n",
       "  </thead>\n",
       "  <tbody>\n",
       "    <tr>\n",
       "      <th>SumbuKecil</th>\n",
       "      <td>1.000000</td>\n",
       "      <td>-0.152975</td>\n",
       "    </tr>\n",
       "    <tr>\n",
       "      <th>Kelas</th>\n",
       "      <td>-0.152975</td>\n",
       "      <td>1.000000</td>\n",
       "    </tr>\n",
       "  </tbody>\n",
       "</table>\n",
       "</div>"
      ],
      "text/plain": [
       "            SumbuKecil     Kelas\n",
       "SumbuKecil    1.000000 -0.152975\n",
       "Kelas        -0.152975  1.000000"
      ]
     },
     "execution_count": 81,
     "metadata": {},
     "output_type": "execute_result"
    }
   ],
   "source": [
    "# Correlation test\n",
    "df[['SumbuKecil', 'Kelas']].corr()"
   ]
  },
  {
   "cell_type": "code",
   "execution_count": 82,
   "metadata": {
    "id": "6SBhnK27Uvm4",
    "outputId": "8b8c709e-36b8-4570-9a95-dea4ddb88e26"
   },
   "outputs": [
    {
     "data": {
      "image/png": "[encoded data removed]",
      "text/plain": [
       "<Figure size 432x288 with 1 Axes>"
      ]
     },
     "metadata": {
      "needs_background": "light"
     },
     "output_type": "display_data"
    }
   ],
   "source": [
    "# Scatter plot\n",
    "plt.scatter(df['SumbuKecil'], df['Kelas'])\n",
    "plt.show()"
   ]
  },
  {
   "cell_type": "markdown",
   "metadata": {
    "id": "P5bc5914TIw_"
   },
   "source": [
    "#### Keunikan"
   ]
  },
  {
   "cell_type": "markdown",
   "metadata": {
    "id": "2PeG57Lh7WNi"
   },
   "source": [
    "Berdasarkan corelation test didapat nilai corelation sebesar `-0.730456`. Dengan nilai tersebut, dapat disimpulkan bahwa kolom `Keunikan` berkorelasi negatif secara cukup kuat dengan kolom `Kelas`. Hal tersebut diperkuat dengan scatter plot yang menunjukkan tidak ada `Keunikan` dengan nilai yang mendekati nilai maksimum yang diklasifikasikan sebagai `Kelas 2`.\n"
   ]
  },
  {
   "cell_type": "code",
   "execution_count": 83,
   "metadata": {
    "id": "7Gk1KnZeUTId",
    "outputId": "d88f6d14-2266-435e-f8e8-44b87c3d0ba6"
   },
   "outputs": [
    {
     "data": {
      "text/html": [
       "<div>\n",
       "<style scoped>\n",
       "    .dataframe tbody tr th:only-of-type {\n",
       "        vertical-align: middle;\n",
       "    }\n",
       "\n",
       "    .dataframe tbody tr th {\n",
       "        vertical-align: top;\n",
       "    }\n",
       "\n",
       "    .dataframe thead th {\n",
       "        text-align: right;\n",
       "    }\n",
       "</style>\n",
       "<table border=\"1\" class=\"dataframe\">\n",
       "  <thead>\n",
       "    <tr style=\"text-align: right;\">\n",
       "      <th></th>\n",
       "      <th>Keunikan</th>\n",
       "      <th>Kelas</th>\n",
       "    </tr>\n",
       "  </thead>\n",
       "  <tbody>\n",
       "    <tr>\n",
       "      <th>Keunikan</th>\n",
       "      <td>1.000000</td>\n",
       "      <td>-0.730456</td>\n",
       "    </tr>\n",
       "    <tr>\n",
       "      <th>Kelas</th>\n",
       "      <td>-0.730456</td>\n",
       "      <td>1.000000</td>\n",
       "    </tr>\n",
       "  </tbody>\n",
       "</table>\n",
       "</div>"
      ],
      "text/plain": [
       "          Keunikan     Kelas\n",
       "Keunikan  1.000000 -0.730456\n",
       "Kelas    -0.730456  1.000000"
      ]
     },
     "execution_count": 83,
     "metadata": {},
     "output_type": "execute_result"
    }
   ],
   "source": [
    "# Correlation test\n",
    "df[['Keunikan', 'Kelas']].corr()"
   ]
  },
  {
   "cell_type": "code",
   "execution_count": 84,
   "metadata": {
    "id": "9vvhSsQCUyob",
    "outputId": "61f89276-f4af-481b-b80a-5103503a1450"
   },
   "outputs": [
    {
     "data": {
      "image/png": "[encoded data removed]",
      "text/plain": [
       "<Figure size 432x288 with 1 Axes>"
      ]
     },
     "metadata": {
      "needs_background": "light"
     },
     "output_type": "display_data"
    }
   ],
   "source": [
    "# Scatter plot\n",
    "plt.scatter(df['Keunikan'], df['Kelas'])\n",
    "plt.show()"
   ]
  },
  {
   "cell_type": "markdown",
   "metadata": {
    "id": "zSa62KHDTKg7"
   },
   "source": [
    "#### Area Bulatan"
   ]
  },
  {
   "cell_type": "markdown",
   "metadata": {
    "id": "ZzKb2Pvb7Z6_"
   },
   "source": [
    "Berdasarkan corelation test didapat nilai corelation sebesar `-0.607313`. Dengan nilai tersebut, dapat disimpulkan bahwa kolom `Area Bulatan` berkorelasi negatif secara moderat dengan kolom `Kelas`. Pada scatter plot, ditunjukkan kecenderungan dan pola hanya terjadi pada nilai `Area Bulatan` yang mendekati nilai ekstrem."
   ]
  },
  {
   "cell_type": "code",
   "execution_count": 85,
   "metadata": {
    "id": "b3l_p-dGUg_W",
    "outputId": "f45bbfa0-c164-487f-dc9a-25d836bff8a4"
   },
   "outputs": [
    {
     "data": {
      "text/html": [
       "<div>\n",
       "<style scoped>\n",
       "    .dataframe tbody tr th:only-of-type {\n",
       "        vertical-align: middle;\n",
       "    }\n",
       "\n",
       "    .dataframe tbody tr th {\n",
       "        vertical-align: top;\n",
       "    }\n",
       "\n",
       "    .dataframe thead th {\n",
       "        text-align: right;\n",
       "    }\n",
       "</style>\n",
       "<table border=\"1\" class=\"dataframe\">\n",
       "  <thead>\n",
       "    <tr style=\"text-align: right;\">\n",
       "      <th></th>\n",
       "      <th>AreaBulatan</th>\n",
       "      <th>Kelas</th>\n",
       "    </tr>\n",
       "  </thead>\n",
       "  <tbody>\n",
       "    <tr>\n",
       "      <th>AreaBulatan</th>\n",
       "      <td>1.000000</td>\n",
       "      <td>-0.607313</td>\n",
       "    </tr>\n",
       "    <tr>\n",
       "      <th>Kelas</th>\n",
       "      <td>-0.607313</td>\n",
       "      <td>1.000000</td>\n",
       "    </tr>\n",
       "  </tbody>\n",
       "</table>\n",
       "</div>"
      ],
      "text/plain": [
       "             AreaBulatan     Kelas\n",
       "AreaBulatan     1.000000 -0.607313\n",
       "Kelas          -0.607313  1.000000"
      ]
     },
     "execution_count": 85,
     "metadata": {},
     "output_type": "execute_result"
    }
   ],
   "source": [
    "# Correlation test\n",
    "df[['AreaBulatan', 'Kelas']].corr()"
   ]
  },
  {
   "cell_type": "code",
   "execution_count": 86,
   "metadata": {
    "id": "feR5x1fcU0_f",
    "outputId": "b95520dd-c0e0-49a2-da8a-3ec902d20945"
   },
   "outputs": [
    {
     "data": {
      "image/png": "[encoded data removed]",
      "text/plain": [
       "<Figure size 432x288 with 1 Axes>"
      ]
     },
     "metadata": {
      "needs_background": "light"
     },
     "output_type": "display_data"
    }
   ],
   "source": [
    "# Scatter plot\n",
    "plt.scatter(df['AreaBulatan'], df['Kelas'])\n",
    "plt.show()"
   ]
  },
  {
   "cell_type": "markdown",
   "metadata": {
    "id": "s-QpSIRwTYl-"
   },
   "source": [
    "#### Diameter"
   ]
  },
  {
   "cell_type": "markdown",
   "metadata": {
    "id": "cXalyXWO8IoU"
   },
   "source": [
    "Berdasarkan corelation test didapat nilai corelation sebesar `-0.602536`. Dengan nilai tersebut, dapat disimpulkan bahwa kolom `Diameter` berkorelasi negatif secara moderat dengan kolom `Kelas`. Sebagaimana kolom `Area Bulatan`, kecenderungan dan pola pada kolom `Diameter` hanya tejadi pada nilai yang mendekati nilai ekstrem."
   ]
  },
  {
   "cell_type": "code",
   "execution_count": 87,
   "metadata": {
    "id": "tpQCSmmjTZ6o",
    "outputId": "50a8efe0-c64a-4844-a438-976d26462e4a"
   },
   "outputs": [
    {
     "data": {
      "text/html": [
       "<div>\n",
       "<style scoped>\n",
       "    .dataframe tbody tr th:only-of-type {\n",
       "        vertical-align: middle;\n",
       "    }\n",
       "\n",
       "    .dataframe tbody tr th {\n",
       "        vertical-align: top;\n",
       "    }\n",
       "\n",
       "    .dataframe thead th {\n",
       "        text-align: right;\n",
       "    }\n",
       "</style>\n",
       "<table border=\"1\" class=\"dataframe\">\n",
       "  <thead>\n",
       "    <tr style=\"text-align: right;\">\n",
       "      <th></th>\n",
       "      <th>Diameter</th>\n",
       "      <th>Kelas</th>\n",
       "    </tr>\n",
       "  </thead>\n",
       "  <tbody>\n",
       "    <tr>\n",
       "      <th>Diameter</th>\n",
       "      <td>1.000000</td>\n",
       "      <td>-0.602536</td>\n",
       "    </tr>\n",
       "    <tr>\n",
       "      <th>Kelas</th>\n",
       "      <td>-0.602536</td>\n",
       "      <td>1.000000</td>\n",
       "    </tr>\n",
       "  </tbody>\n",
       "</table>\n",
       "</div>"
      ],
      "text/plain": [
       "          Diameter     Kelas\n",
       "Diameter  1.000000 -0.602536\n",
       "Kelas    -0.602536  1.000000"
      ]
     },
     "execution_count": 87,
     "metadata": {},
     "output_type": "execute_result"
    }
   ],
   "source": [
    "# Correlation test\n",
    "df[['Diameter', 'Kelas']].corr()"
   ]
  },
  {
   "cell_type": "code",
   "execution_count": 88,
   "metadata": {
    "id": "-KtM8d7XU30P",
    "outputId": "f080fea8-a0f9-4d5f-84eb-165110c8f2c4"
   },
   "outputs": [
    {
     "data": {
      "image/png": "[encoded data removed]",
      "text/plain": [
       "<Figure size 432x288 with 1 Axes>"
      ]
     },
     "metadata": {
      "needs_background": "light"
     },
     "output_type": "display_data"
    }
   ],
   "source": [
    "# Scatter plot\n",
    "plt.scatter(df['Diameter'], df['Kelas'])\n",
    "plt.show()"
   ]
  },
  {
   "cell_type": "markdown",
   "metadata": {
    "id": "q6GtcYmaTads"
   },
   "source": [
    "#### Kadar Air"
   ]
  },
  {
   "cell_type": "markdown",
   "metadata": {
    "id": "XKoDiwL88zHM"
   },
   "source": [
    "Berdasarkan corelation test didapat nilai corelation sebesar `0.134344`. Dengan nilai tersebut, dapat disimpulkan bahwa kolom `Kadar Air` berkorelasi positif secara lemah dengan kolom `Kelas`. Pada scatter plot, terlihat tidak ada kecenderungan dan pola untuk kolom `Kadar Air`."
   ]
  },
  {
   "cell_type": "code",
   "execution_count": 89,
   "metadata": {
    "id": "55pAn5-tUkh1",
    "outputId": "21e23c10-5998-4caf-d188-3dafc8524f91"
   },
   "outputs": [
    {
     "data": {
      "text/html": [
       "<div>\n",
       "<style scoped>\n",
       "    .dataframe tbody tr th:only-of-type {\n",
       "        vertical-align: middle;\n",
       "    }\n",
       "\n",
       "    .dataframe tbody tr th {\n",
       "        vertical-align: top;\n",
       "    }\n",
       "\n",
       "    .dataframe thead th {\n",
       "        text-align: right;\n",
       "    }\n",
       "</style>\n",
       "<table border=\"1\" class=\"dataframe\">\n",
       "  <thead>\n",
       "    <tr style=\"text-align: right;\">\n",
       "      <th></th>\n",
       "      <th>KadarAir</th>\n",
       "      <th>Kelas</th>\n",
       "    </tr>\n",
       "  </thead>\n",
       "  <tbody>\n",
       "    <tr>\n",
       "      <th>KadarAir</th>\n",
       "      <td>1.000000</td>\n",
       "      <td>0.134344</td>\n",
       "    </tr>\n",
       "    <tr>\n",
       "      <th>Kelas</th>\n",
       "      <td>0.134344</td>\n",
       "      <td>1.000000</td>\n",
       "    </tr>\n",
       "  </tbody>\n",
       "</table>\n",
       "</div>"
      ],
      "text/plain": [
       "          KadarAir     Kelas\n",
       "KadarAir  1.000000  0.134344\n",
       "Kelas     0.134344  1.000000"
      ]
     },
     "execution_count": 89,
     "metadata": {},
     "output_type": "execute_result"
    }
   ],
   "source": [
    "# Correlation test\n",
    "df[['KadarAir', 'Kelas']].corr()"
   ]
  },
  {
   "cell_type": "code",
   "execution_count": 90,
   "metadata": {
    "id": "lj3LfIk4U7Cg",
    "outputId": "74ad3d68-69e0-413e-e772-fc9b28f07304"
   },
   "outputs": [
    {
     "data": {
      "image/png": "[encoded data removed]",
      "text/plain": [
       "<Figure size 432x288 with 1 Axes>"
      ]
     },
     "metadata": {
      "needs_background": "light"
     },
     "output_type": "display_data"
    }
   ],
   "source": [
    "# Scatter plot\n",
    "plt.scatter(df['KadarAir'], df['Kelas'])\n",
    "plt.show()"
   ]
  },
  {
   "cell_type": "markdown",
   "metadata": {
    "id": "jYVf1m6tTc6h"
   },
   "source": [
    "#### Keliling"
   ]
  },
  {
   "cell_type": "markdown",
   "metadata": {
    "id": "vEW8ThOA9Z53"
   },
   "source": [
    "Berdasarkan corelation test didapat nilai corelation sebesar `-0.634861`. Dengan nilai tersebut, dapat disimpulkan bahwa kolom `Keliling` berkorelasi negatif secara moderat dengan kolom `Kelas`. Pada scatter plot, terlihat sedikit kecenderungan untuk nilai `Keliling` yang mendekati nilai minimum dan yang berada di atas 320."
   ]
  },
  {
   "cell_type": "code",
   "execution_count": 91,
   "metadata": {
    "id": "kRj9rssFUmLR",
    "outputId": "46c979a0-dc52-4487-d459-57b4f635da0a"
   },
   "outputs": [
    {
     "data": {
      "text/html": [
       "<div>\n",
       "<style scoped>\n",
       "    .dataframe tbody tr th:only-of-type {\n",
       "        vertical-align: middle;\n",
       "    }\n",
       "\n",
       "    .dataframe tbody tr th {\n",
       "        vertical-align: top;\n",
       "    }\n",
       "\n",
       "    .dataframe thead th {\n",
       "        text-align: right;\n",
       "    }\n",
       "</style>\n",
       "<table border=\"1\" class=\"dataframe\">\n",
       "  <thead>\n",
       "    <tr style=\"text-align: right;\">\n",
       "      <th></th>\n",
       "      <th>Keliling</th>\n",
       "      <th>Kelas</th>\n",
       "    </tr>\n",
       "  </thead>\n",
       "  <tbody>\n",
       "    <tr>\n",
       "      <th>Keliling</th>\n",
       "      <td>1.000000</td>\n",
       "      <td>-0.634861</td>\n",
       "    </tr>\n",
       "    <tr>\n",
       "      <th>Kelas</th>\n",
       "      <td>-0.634861</td>\n",
       "      <td>1.000000</td>\n",
       "    </tr>\n",
       "  </tbody>\n",
       "</table>\n",
       "</div>"
      ],
      "text/plain": [
       "          Keliling     Kelas\n",
       "Keliling  1.000000 -0.634861\n",
       "Kelas    -0.634861  1.000000"
      ]
     },
     "execution_count": 91,
     "metadata": {},
     "output_type": "execute_result"
    }
   ],
   "source": [
    "# Correlation test\n",
    "df[['Keliling', 'Kelas']].corr()"
   ]
  },
  {
   "cell_type": "code",
   "execution_count": 92,
   "metadata": {
    "id": "n7HE7N0BU7VR",
    "outputId": "fa2631d4-7c14-4aaa-f09f-f5e7cfbde8ae"
   },
   "outputs": [
    {
     "data": {
      "image/png": "[encoded data removed]",
      "text/plain": [
       "<Figure size 432x288 with 1 Axes>"
      ]
     },
     "metadata": {
      "needs_background": "light"
     },
     "output_type": "display_data"
    }
   ],
   "source": [
    "# Scatter plot\n",
    "plt.scatter(df['Keliling'], df['Kelas'])\n",
    "plt.show()"
   ]
  },
  {
   "cell_type": "markdown",
   "metadata": {
    "id": "lmU2KQynTe0G"
   },
   "source": [
    "#### Bulatan"
   ]
  },
  {
   "cell_type": "markdown",
   "metadata": {
    "id": "4PNLU-Mn99j7"
   },
   "source": [
    "Berdasarkan corelation test didapat nilai corelation sebesar `0.545005`. Dengan nilai tersebut, dapat disimpulkan bahwa kolom `Bulatan` berkorelasi positif secara moderat dengan kolom `Kelas`. Terlihat pada scatter plot bahwa ada sedikit kecenderungan untuk nilai `Bulatan` yang mendekati nilai maksimum untuk diklasifikasikan sebagai `Kelas 2`,"
   ]
  },
  {
   "cell_type": "code",
   "execution_count": 93,
   "metadata": {
    "id": "BhetTfjJUnlk",
    "outputId": "7a81a1c7-c086-4b82-f2e9-6571f93fab20"
   },
   "outputs": [
    {
     "data": {
      "text/html": [
       "<div>\n",
       "<style scoped>\n",
       "    .dataframe tbody tr th:only-of-type {\n",
       "        vertical-align: middle;\n",
       "    }\n",
       "\n",
       "    .dataframe tbody tr th {\n",
       "        vertical-align: top;\n",
       "    }\n",
       "\n",
       "    .dataframe thead th {\n",
       "        text-align: right;\n",
       "    }\n",
       "</style>\n",
       "<table border=\"1\" class=\"dataframe\">\n",
       "  <thead>\n",
       "    <tr style=\"text-align: right;\">\n",
       "      <th></th>\n",
       "      <th>Bulatan</th>\n",
       "      <th>Kelas</th>\n",
       "    </tr>\n",
       "  </thead>\n",
       "  <tbody>\n",
       "    <tr>\n",
       "      <th>Bulatan</th>\n",
       "      <td>1.000000</td>\n",
       "      <td>0.545005</td>\n",
       "    </tr>\n",
       "    <tr>\n",
       "      <th>Kelas</th>\n",
       "      <td>0.545005</td>\n",
       "      <td>1.000000</td>\n",
       "    </tr>\n",
       "  </tbody>\n",
       "</table>\n",
       "</div>"
      ],
      "text/plain": [
       "          Bulatan     Kelas\n",
       "Bulatan  1.000000  0.545005\n",
       "Kelas    0.545005  1.000000"
      ]
     },
     "execution_count": 93,
     "metadata": {},
     "output_type": "execute_result"
    }
   ],
   "source": [
    "# Correlation test\n",
    "df[['Bulatan', 'Kelas']].corr()"
   ]
  },
  {
   "cell_type": "code",
   "execution_count": 94,
   "metadata": {
    "id": "xjDwfg9jU_OA",
    "outputId": "95198ddb-c669-4d04-d3db-de22d6c09f1e"
   },
   "outputs": [
    {
     "data": {
      "image/png": "[encoded data removed]",
      "text/plain": [
       "<Figure size 432x288 with 1 Axes>"
      ]
     },
     "metadata": {
      "needs_background": "light"
     },
     "output_type": "display_data"
    }
   ],
   "source": [
    "# Scatter plot\n",
    "plt.scatter(df['Bulatan'], df['Kelas'])\n",
    "plt.show()"
   ]
  },
  {
   "cell_type": "markdown",
   "metadata": {
    "id": "ZvpZnFxETguO"
   },
   "source": [
    "#### Ransum"
   ]
  },
  {
   "cell_type": "markdown",
   "metadata": {
    "id": "HxhcwXRa-bWy"
   },
   "source": [
    "Berdasarkan corelation test didapat nilai corelation sebesar `-0.839904`. Dengan nilai tersebut, dapat disimpulkan bahwa kolom `Ransum` berkorelasi negatif secara kuat dengan kolom `Kelas`. Pada scatter plot, terlihat pola bahwa nilai `Ransum` yang mendekati nilai maksimum diklasifikasikan sebagai `Kelas 1`."
   ]
  },
  {
   "cell_type": "code",
   "execution_count": 95,
   "metadata": {
    "id": "Zd2kEKLmUpl3",
    "outputId": "03c84399-4965-4245-ee7c-2b206dfd635b"
   },
   "outputs": [
    {
     "data": {
      "text/html": [
       "<div>\n",
       "<style scoped>\n",
       "    .dataframe tbody tr th:only-of-type {\n",
       "        vertical-align: middle;\n",
       "    }\n",
       "\n",
       "    .dataframe tbody tr th {\n",
       "        vertical-align: top;\n",
       "    }\n",
       "\n",
       "    .dataframe thead th {\n",
       "        text-align: right;\n",
       "    }\n",
       "</style>\n",
       "<table border=\"1\" class=\"dataframe\">\n",
       "  <thead>\n",
       "    <tr style=\"text-align: right;\">\n",
       "      <th></th>\n",
       "      <th>Ransum</th>\n",
       "      <th>Kelas</th>\n",
       "    </tr>\n",
       "  </thead>\n",
       "  <tbody>\n",
       "    <tr>\n",
       "      <th>Ransum</th>\n",
       "      <td>1.000000</td>\n",
       "      <td>-0.839904</td>\n",
       "    </tr>\n",
       "    <tr>\n",
       "      <th>Kelas</th>\n",
       "      <td>-0.839904</td>\n",
       "      <td>1.000000</td>\n",
       "    </tr>\n",
       "  </tbody>\n",
       "</table>\n",
       "</div>"
      ],
      "text/plain": [
       "          Ransum     Kelas\n",
       "Ransum  1.000000 -0.839904\n",
       "Kelas  -0.839904  1.000000"
      ]
     },
     "execution_count": 95,
     "metadata": {},
     "output_type": "execute_result"
    }
   ],
   "source": [
    "# Correlation test\n",
    "df[['Ransum', 'Kelas']].corr()"
   ]
  },
  {
   "cell_type": "code",
   "execution_count": 96,
   "metadata": {
    "id": "xXfqn4-3UqZS",
    "outputId": "0c115f42-1aa1-4119-eaf2-a09d1ba1e3cc"
   },
   "outputs": [
    {
     "data": {
      "image/png": "[encoded data removed]",
      "text/plain": [
       "<Figure size 432x288 with 1 Axes>"
      ]
     },
     "metadata": {
      "needs_background": "light"
     },
     "output_type": "display_data"
    }
   ],
   "source": [
    "# Scatter plot\n",
    "plt.scatter(df['Ransum'], df['Kelas'])\n",
    "plt.show()"
   ]
  }
 ],
 "metadata": {
  "kernelspec": {
   "display_name": "Python 3",
   "language": "python",
   "name": "python3"
  },
  "language_info": {
   "codemirror_mode": {
    "name": "ipython",
    "version": 3
   },
   "file_extension": ".py",
   "mimetype": "text/x-python",
   "name": "python",
   "nbconvert_exporter": "python",
   "pygments_lexer": "ipython3",
   "version": "3.7.6"
  }
 },
 "nbformat": 4,
 "nbformat_minor": 4
}
